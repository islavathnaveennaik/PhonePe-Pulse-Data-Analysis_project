{
  "nbformat": 4,
  "nbformat_minor": 0,
  "metadata": {
    "colab": {
      "provenance": [],
      "authorship_tag": "ABX9TyNUH9Rvt6hXWJcqLTh2Xz/Z",
      "include_colab_link": true
    },
    "kernelspec": {
      "name": "python3",
      "display_name": "Python 3"
    },
    "language_info": {
      "name": "python"
    }
  },
  "cells": [
    {
      "cell_type": "markdown",
      "metadata": {
        "id": "view-in-github",
        "colab_type": "text"
      },
      "source": [
        "<a href=\"https://colab.research.google.com/github/islavathnaveennaik/PhonePe-Pulse-Data-Analysis_project/blob/main/PhonePe_Pulse_Data_Analysis_Extraction%2C_Cleaning%2C_and_Visualization.ipynb\" target=\"_parent\"><img src=\"https://colab.research.google.com/assets/colab-badge.svg\" alt=\"Open In Colab\"/></a>"
      ]
    },
    {
      "cell_type": "code",
      "source": [
        "\"\"\"\n",
        "# PhonePe Pulse Data Analysis: Extraction, Cleaning, and Visualization\n",
        "\n",
        "This notebook provides a step-by-step guide to extract, clean, and visualize\n",
        "the PhonePe Pulse data from its GitHub repository. It covers:\n",
        "1.  Cloning the GitHub repository.\n",
        "2.  Extracting and consolidating data from multiple JSON files into Pandas DataFrames.\n",
        "3.  Performing essential data cleaning steps (handling missing values, data types, duplicates, standardization).\n",
        "4.  Generating various visualizations using Matplotlib, Seaborn, and Plotly, including geo-spatial plots.\n",
        "5.  Storing the cleaned data in a SQLite database.\n",
        "\n",
        "**Technologies Used:** Python, Pandas, Matplotlib, Seaborn, Plotly, SQLite.\n",
        "\n",
        "\"\"\""
      ],
      "metadata": {
        "id": "Fjokd3T4BVTT"
      },
      "execution_count": null,
      "outputs": []
    },
    {
      "cell_type": "markdown",
      "source": [
        "# Import necessary libraries"
      ],
      "metadata": {
        "id": "cxnNKmffBhvd"
      }
    },
    {
      "cell_type": "code",
      "source": [
        "import pandas as pd\n",
        "import numpy as np\n",
        "import matplotlib.pyplot as plt\n",
        "import seaborn as sns\n",
        "import os\n",
        "import json\n",
        "import re # Regular expressions for string cleaning\n",
        "\n",
        "# For interactive plotting and geo-visualization\n",
        "import plotly.express as px\n",
        "import plotly.graph_objects as go\n",
        "\n",
        "# For database interaction\n",
        "import sqlite3"
      ],
      "metadata": {
        "id": "-q7tZKjaBvIW"
      },
      "execution_count": null,
      "outputs": []
    },
    {
      "cell_type": "code",
      "source": [
        "\n",
        "# Configure Matplotlib for better display\n",
        "plt.rcParams['figure.figsize'] = (10, 6)\n",
        "plt.rcParams['figure.dpi'] = 100\n",
        "sns.set_style(\"whitegrid\")\n",
        "\n"
      ],
      "metadata": {
        "id": "e7Gj3ix-CED2"
      },
      "execution_count": null,
      "outputs": []
    },
    {
      "cell_type": "code",
      "source": [
        "import warnings\n",
        "warnings.filterwarnings('ignore')"
      ],
      "metadata": {
        "id": "fnDRKixOJXME"
      },
      "execution_count": null,
      "outputs": []
    },
    {
      "cell_type": "markdown",
      "source": [
        "#Data Extraction (Cloning GitHub Repository and Reading Data)\n"
      ],
      "metadata": {
        "id": "MIaWZmupCk64"
      }
    },
    {
      "cell_type": "code",
      "source": [
        "# Clone the PhonePe Pulse GitHub repository\n",
        "\n",
        "# It will create a 'pulse' directory in your current working directory\n",
        "if not os.path.exists('pulse'):\n",
        "    print(\"Cloning PhonePe Pulse GitHub repository...\")\n",
        "    !git clone https://github.com/PhonePe/pulse.git\n",
        "    print(\"Repository cloned successfully.\")\n",
        "else:\n",
        "    print(\"PhonePe Pulse repository already exists. Skipping cloning.\")"
      ],
      "metadata": {
        "colab": {
          "base_uri": "https://localhost:8080/"
        },
        "id": "TUPDsBpSCmwP",
        "outputId": "f4967e6e-46b0-4a45-cfd8-b6d8a11e3ac9"
      },
      "execution_count": null,
      "outputs": [
        {
          "output_type": "stream",
          "name": "stdout",
          "text": [
            "PhonePe Pulse repository already exists. Skipping cloning.\n"
          ]
        }
      ]
    },
    {
      "cell_type": "code",
      "source": [
        "# Verify cloning by listing contents of the 'pulse' directory\n",
        "print(\"\\nContents of 'pulse' directory:\")\n",
        "!ls pulse"
      ],
      "metadata": {
        "colab": {
          "base_uri": "https://localhost:8080/"
        },
        "id": "7aRCzKKiC6JG",
        "outputId": "0f045cda-1b6b-4a2f-ac01-1a89fbcdb99a"
      },
      "execution_count": null,
      "outputs": [
        {
          "output_type": "stream",
          "name": "stdout",
          "text": [
            "\n",
            "Contents of 'pulse' directory:\n",
            "data  LICENSE  README.md\n"
          ]
        }
      ]
    },
    {
      "cell_type": "code",
      "source": [
        "# Define the base path for the data\n",
        "base_data_path = 'pulse/data/'"
      ],
      "metadata": {
        "id": "iKK5AEzlC-aL"
      },
      "execution_count": null,
      "outputs": []
    },
    {
      "cell_type": "code",
      "source": [
        "#  Download and Load Indian States GeoJSON\n",
        "# This GeoJSON file will be used for accurate plotting of Indian states.\n",
        "geojson_url = \"https://raw.githubusercontent.com/india-in-data/india-states-2019/master/india_states.geojson\"\n",
        "geojson_file_path = \"india_states.geojson\""
      ],
      "metadata": {
        "id": "M7KUZQtTapHq"
      },
      "execution_count": null,
      "outputs": []
    },
    {
      "cell_type": "code",
      "source": [
        "# --- Function to read and consolidate aggregated transaction data ---\n",
        "def read_aggregated_transaction_data(base_path):\n",
        "    \"\"\"\n",
        "    Reads and consolidates aggregated transaction data from JSON files.\n",
        "    \"\"\"\n",
        "    data_list = []\n",
        "    agg_trans_path = os.path.join(base_path, 'aggregated', 'transaction', 'country', 'india', 'state')\n",
        "\n",
        "    print(f\"Reading aggregated transaction data from: {agg_trans_path}\")\n",
        "    # Iterate through each state folder\n",
        "    for state_folder in os.listdir(agg_trans_path):\n",
        "        state_path = os.path.join(agg_trans_path, state_folder)\n",
        "        if os.path.isdir(state_path):\n",
        "            # Iterate through year folders within each state\n",
        "            for year_folder in os.listdir(state_path):\n",
        "                year_path = os.path.join(state_path, year_folder)\n",
        "                if os.path.isdir(year_path):\n",
        "                    # Iterate through quarter JSON files within each year\n",
        "                    for quarter_file in os.listdir(year_path):\n",
        "                        if quarter_file.endswith('.json'):\n",
        "                            quarter_path = os.path.join(year_path, quarter_file)\n",
        "                            try:\n",
        "                                with open(quarter_path, 'r') as f:\n",
        "                                    data = json.load(f)\n",
        "                                    # Extract relevant information\n",
        "                                    state_name = state_folder.replace('-', ' ').title() # Clean state name\n",
        "                                    year = int(year_folder)\n",
        "                                    quarter = int(quarter_file.replace('.json', ''))\n",
        "\n",
        "                                    for transaction in data.get('data', {}).get('transactionData', []):\n",
        "                                        # Ensure paymentInstruments exists and has at least one element\n",
        "                                        if transaction.get('paymentInstruments') and len(transaction['paymentInstruments']) > 0:\n",
        "                                            payment_instrument = transaction['paymentInstruments'][0]\n",
        "                                            data_list.append({\n",
        "                                                'State': state_name,\n",
        "                                                'Year': year,\n",
        "                                                'Quarter': quarter,\n",
        "                                                'Transaction_Type': transaction.get('name'),\n",
        "                                                'Transaction_Count': payment_instrument.get('count'),\n",
        "                                                'Transaction_Amount': payment_instrument.get('amount')\n",
        "                                            })\n",
        "                            except Exception as e:\n",
        "                                print(f\"Error reading {quarter_path}: {e}\")\n",
        "    return pd.DataFrame(data_list)"
      ],
      "metadata": {
        "id": "zbc1V6cvIHJI"
      },
      "execution_count": null,
      "outputs": []
    },
    {
      "cell_type": "code",
      "source": [
        "# --- Function to read and consolidate aggregated user data ---\n",
        "def read_aggregated_user_data(base_path):\n",
        "    \"\"\"\n",
        "    Reads and consolidates aggregated user data from JSON files.\n",
        "    Corrected to handle the actual structure of the user data JSONs.\n",
        "    \"\"\"\n",
        "    data_list = []\n",
        "    agg_user_path = os.path.join(base_path, 'aggregated', 'user', 'country', 'india', 'state')\n",
        "\n",
        "    print(f\"Reading aggregated user data from: {agg_user_path}\")\n",
        "    for state_folder in os.listdir(agg_user_path):\n",
        "        state_path = os.path.join(agg_user_path, state_folder)\n",
        "        if os.path.isdir(state_path):\n",
        "            for year_folder in os.listdir(state_path):\n",
        "                year_path = os.path.join(state_path, year_folder)\n",
        "                if os.path.isdir(year_path):\n",
        "                    for quarter_file in os.listdir(year_path):\n",
        "                        if quarter_file.endswith('.json'):\n",
        "                            quarter_path = os.path.join(year_path, quarter_file)\n",
        "                            try:\n",
        "                                with open(quarter_path, 'r') as f:\n",
        "                                    data = json.load(f)\n",
        "                                    state_name = state_folder.replace('-', ' ').title()\n",
        "                                    year = int(year_folder)\n",
        "                                    quarter = int(quarter_file.replace('.json', ''))\n",
        "\n",
        "                                    user_data = data.get('data', {})\n",
        "\n",
        "                                    # Extract aggregated user data (total registered users and app opens)\n",
        "                                    # This data is often directly under 'data' with keys like 'registeredUsers' and 'appOpens'\n",
        "                                    # It's not always in a list under 'aggregated' as initially assumed.\n",
        "                                    registered_users = user_data.get('registeredUsers')\n",
        "                                    app_opens = user_data.get('appOpens')\n",
        "\n",
        "                                    # Extract user by device data if available\n",
        "                                    if 'userByDevice' in user_data and isinstance(user_data['userByDevice'], list):\n",
        "                                        for device_data in user_data['userByDevice']:\n",
        "                                            data_list.append({\n",
        "                                                'State': state_name,\n",
        "                                                'Year': year,\n",
        "                                                'Quarter': quarter,\n",
        "                                                'Registered_Users': registered_users, # Include total registered users with device data\n",
        "                                                'App_Opens': app_opens, # Include total app opens with device data\n",
        "                                                'Brand': device_data.get('brand'),\n",
        "                                                'Count': device_data.get('count'),\n",
        "                                                'Percentage': device_data.get('percentage')\n",
        "                                            })\n",
        "                                    else:\n",
        "                                         # If no device data, still add total registered users and app opens\n",
        "                                         data_list.append({\n",
        "                                                'State': state_name,\n",
        "                                                'Year': year,\n",
        "                                                'Quarter': quarter,\n",
        "                                                'Registered_Users': registered_users,\n",
        "                                                'App_Opens': app_opens,\n",
        "                                                'Brand': None, # No brand info\n",
        "                                                'Count': None, # No count info\n",
        "                                                'Percentage': None # No percentage info\n",
        "                                            })\n",
        "\n",
        "\n",
        "                            except Exception as e:\n",
        "                                print(f\"Error reading {quarter_path}: {e}\")\n",
        "\n",
        "    # Create DataFrame and handle potential None values in numerical columns before converting to int\n",
        "    df = pd.DataFrame(data_list)\n",
        "    if not df.empty:\n",
        "        for col in ['Registered_Users', 'App_Opens', 'Count']:\n",
        "            if col in df.columns:\n",
        "                df[col] = pd.to_numeric(df[col], errors='coerce').fillna(0).astype(int)\n",
        "        if 'Percentage' in df.columns:\n",
        "             df['Percentage'] = pd.to_numeric(df['Percentage'], errors='coerce').fillna(0.0)\n",
        "\n",
        "    return df\n"
      ],
      "metadata": {
        "id": "BYdDuMIWK8Be"
      },
      "execution_count": null,
      "outputs": []
    },
    {
      "cell_type": "code",
      "source": [
        "# --- Function to read and consolidate map transaction data ---\n",
        "def read_map_transaction_data(base_path):\n",
        "    \"\"\"\n",
        "    Reads and consolidates map transaction data from JSON files.\n",
        "    Corrected path and data extraction logic to handle potential JSON variations.\n",
        "    \"\"\"\n",
        "    data_list = []\n",
        "    # Corrected path based on repository structure inspection\n",
        "    map_trans_path = os.path.join(base_path, 'map', 'transaction', 'hover', 'country', 'india', 'state')\n",
        "\n",
        "    print(f\"Reading map transaction data from: {map_trans_path}\")\n",
        "    if not os.path.exists(map_trans_path):\n",
        "        print(f\"Directory not found: {map_trans_path}\")\n",
        "        return pd.DataFrame(data_list) # Return empty DataFrame if path doesn't exist\n",
        "\n",
        "    for state_folder in os.listdir(map_trans_path):\n",
        "        state_path = os.path.join(map_trans_path, state_folder)\n",
        "        if os.path.isdir(state_path):\n",
        "            for year_folder in os.listdir(state_path):\n",
        "                year_path = os.path.join(state_path, year_folder)\n",
        "                if os.path.isdir(year_path):\n",
        "                    for quarter_file in os.listdir(year_path):\n",
        "                        if quarter_file.endswith('.json'):\n",
        "                            quarter_path = os.path.join(year_path, quarter_file)\n",
        "                            try:\n",
        "                                with open(quarter_path, 'r') as f:\n",
        "                                    data = json.load(f)\n",
        "                                    state_name = state_folder.replace('-', ' ').title()\n",
        "                                    year = int(year_folder)\n",
        "                                    quarter = int(quarter_file.replace('.json', ''))\n",
        "\n",
        "                                    # Check if 'data' key exists and is a dictionary\n",
        "                                    if isinstance(data.get('data'), dict):\n",
        "                                        hover_data_list = data['data'].get('hoverDataList', [])\n",
        "                                        # Ensure hoverDataList is a list\n",
        "                                        if isinstance(hover_data_list, list):\n",
        "                                            for district_data in hover_data_list:\n",
        "                                                # Ensure district_data is a dictionary and 'metric' exists and is a dictionary\n",
        "                                                if isinstance(district_data, dict) and isinstance(district_data.get('metric'), dict):\n",
        "                                                     data_list.append({\n",
        "                                                        'State': state_name,\n",
        "                                                        'Year': year,\n",
        "                                                        'Quarter': quarter,\n",
        "                                                        'District': district_data.get('name'),\n",
        "                                                        'Transaction_Count': district_data['metric'].get('count'),\n",
        "                                                        'Transaction_Amount': district_data['metric'].get('amount')\n",
        "                                                    })\n",
        "                                                else:\n",
        "                                                    print(f\"Warning: Unexpected structure in hoverDataList item in {quarter_path}: {district_data}\")\n",
        "                                        else:\n",
        "                                            print(f\"Warning: 'hoverDataList' is not a list in {quarter_path}. Data structure: {data.get('data')}\")\n",
        "                                    else:\n",
        "                                        print(f\"Warning: 'data' key missing or not a dictionary in {quarter_path}. Data structure: {data}\")\n",
        "\n",
        "\n",
        "                            except Exception as e:\n",
        "                                print(f\"Error reading {quarter_path}: {e}\")\n",
        "\n",
        "    df = pd.DataFrame(data_list)\n",
        "    if not df.empty:\n",
        "        for col in ['Transaction_Count', 'Transaction_Amount']:\n",
        "            if col in df.columns:\n",
        "                df[col] = pd.to_numeric(df[col], errors='coerce').fillna(0) # Keep as float for amount, int for count later if needed\n",
        "\n",
        "    return df"
      ],
      "metadata": {
        "id": "4tCO0VXQKsm9"
      },
      "execution_count": null,
      "outputs": []
    },
    {
      "cell_type": "code",
      "source": [
        "# --- Function to read and consolidate top transaction data ---\n",
        "def read_top_transaction_data(base_path):\n",
        "    \"\"\"\n",
        "    Reads and consolidates top transaction data from JSON files.\n",
        "    Corrected path and data extraction logic.\n",
        "    \"\"\"\n",
        "    data_list = []\n",
        "    # Corrected path based on repository structure inspection: 'country' is under 'transaction'\n",
        "    top_trans_path = os.path.join(base_path, 'top', 'transaction', 'country', 'india', 'state')\n",
        "\n",
        "    print(f\"Reading top transaction data from: {top_trans_path}\")\n",
        "    if not os.path.exists(top_trans_path):\n",
        "        print(f\"Directory not found: {top_trans_path}\")\n",
        "        return pd.DataFrame(data_list) # Return empty DataFrame if path doesn't exist\n",
        "\n",
        "\n",
        "    for state_folder in os.listdir(top_trans_path):\n",
        "        state_path = os.path.join(top_trans_path, state_folder)\n",
        "        if os.path.isdir(state_path):\n",
        "            for year_folder in os.listdir(state_path):\n",
        "                year_path = os.path.join(state_path, year_folder)\n",
        "                if os.path.isdir(year_path):\n",
        "                    for quarter_file in os.listdir(year_path):\n",
        "                        if quarter_file.endswith('.json'):\n",
        "                            quarter_path = os.path.join(year_path, quarter_file)\n",
        "                            try:\n",
        "                                with open(quarter_path, 'r') as f:\n",
        "                                    data = json.load(f)\n",
        "                                    state_name = state_folder.replace('-', ' ').title()\n",
        "                                    year = int(year_folder)\n",
        "                                    quarter = int(quarter_file.replace('.json', ''))\n",
        "\n",
        "                                    # Top 10 States/Districts/Pincodes by Transaction\n",
        "                                    # The structure under 'top' data can vary (districts, pincodes, states).\n",
        "                                    # We'll consolidate all of them with an indicator of the entity type.\n",
        "\n",
        "                                    for key in ['districts', 'pincodes', 'states']:\n",
        "                                        # Check if the key exists under 'data' and is a list\n",
        "                                        if isinstance(data.get('data', {}).get(key), list):\n",
        "                                            for item in data['data'][key]:\n",
        "                                                 # Check if 'metric' exists and is a dictionary\n",
        "                                                if isinstance(item.get('metric'), dict):\n",
        "                                                    data_list.append({\n",
        "                                                        'State': state_name,\n",
        "                                                        'Year': year,\n",
        "                                                        'Quarter': quarter,\n",
        "                                                        'Entity_Type': key.capitalize(), # 'Districts', 'Pincodes', 'States'\n",
        "                                                        'Entity_Name': item.get('entityName'),\n",
        "                                                        'Transaction_Count': item['metric'].get('count'), # Access count directly\n",
        "                                                        'Transaction_Amount': item['metric'].get('amount') # Access amount directly\n",
        "                                                    })\n",
        "                                                else:\n",
        "                                                     print(f\"Warning: Unexpected structure in {key} item in {quarter_path}: {item}\")\n",
        "                                        elif data.get('data', {}).get(key) is not None:\n",
        "                                             print(f\"Warning: '{key}' key exists but is not a list in {quarter_path}. Data structure: {data.get('data')}\")\n",
        "\n",
        "                            except Exception as e:\n",
        "                                print(f\"Error reading {quarter_path}: {e}\")\n",
        "\n",
        "    df = pd.DataFrame(data_list)\n",
        "    if not df.empty:\n",
        "        for col in ['Transaction_Count', 'Transaction_Amount']:\n",
        "            if col in df.columns:\n",
        "                 df[col] = pd.to_numeric(df[col], errors='coerce').fillna(0) # Keep as float for amount, int for count later if needed\n",
        "\n",
        "    return df"
      ],
      "metadata": {
        "id": "e2Wa4Au1MYq-"
      },
      "execution_count": null,
      "outputs": []
    },
    {
      "cell_type": "markdown",
      "source": [
        "# Load data into DataFrames"
      ],
      "metadata": {
        "id": "FaA_pdxlEJlL"
      }
    },
    {
      "cell_type": "code",
      "source": [
        "\n",
        "\n",
        "df_agg_trans = read_aggregated_transaction_data(base_data_path)\n",
        "df_agg_user = read_aggregated_user_data(base_data_path)\n",
        "df_map_trans = read_map_transaction_data(base_data_path)\n",
        "df_top_trans = read_top_transaction_data(base_data_path) # Example for top transactions"
      ],
      "metadata": {
        "id": "HICoICsGEM-J"
      },
      "execution_count": null,
      "outputs": []
    },
    {
      "cell_type": "markdown",
      "source": [
        "#Aggregated Transactions"
      ],
      "metadata": {
        "id": "_LD76ZL4NV67"
      }
    },
    {
      "cell_type": "code",
      "metadata": {
        "id": "HaZbz7ZIiye",
        "colab": {
          "base_uri": "https://localhost:8080/",
          "height": 206
        },
        "outputId": "f8a4362a-654f-4502-9dbb-42f56d833503"
      },
      "source": [
        "df_agg_trans.head()"
      ],
      "execution_count": null,
      "outputs": [
        {
          "output_type": "execute_result",
          "data": {
            "text/plain": [
              "           State  Year  Quarter          Transaction_Type  Transaction_Count  \\\n",
              "0  Uttar Pradesh  2022        4         Merchant payments          439247166   \n",
              "1  Uttar Pradesh  2022        4     Peer-to-peer payments          317613698   \n",
              "2  Uttar Pradesh  2022        4  Recharge & bill payments           78025017   \n",
              "3  Uttar Pradesh  2022        4        Financial Services             418329   \n",
              "4  Uttar Pradesh  2022        4                    Others            1064861   \n",
              "\n",
              "   Transaction_Amount  \n",
              "0        2.967820e+11  \n",
              "1        1.030346e+12  \n",
              "2        4.815907e+10  \n",
              "3        4.302129e+08  \n",
              "4        6.619850e+08  "
            ],
            "text/html": [
              "\n",
              "  <div id=\"df-df8cdb4d-fff2-48c4-9710-afc1a2ea3497\" class=\"colab-df-container\">\n",
              "    <div>\n",
              "<style scoped>\n",
              "    .dataframe tbody tr th:only-of-type {\n",
              "        vertical-align: middle;\n",
              "    }\n",
              "\n",
              "    .dataframe tbody tr th {\n",
              "        vertical-align: top;\n",
              "    }\n",
              "\n",
              "    .dataframe thead th {\n",
              "        text-align: right;\n",
              "    }\n",
              "</style>\n",
              "<table border=\"1\" class=\"dataframe\">\n",
              "  <thead>\n",
              "    <tr style=\"text-align: right;\">\n",
              "      <th></th>\n",
              "      <th>State</th>\n",
              "      <th>Year</th>\n",
              "      <th>Quarter</th>\n",
              "      <th>Transaction_Type</th>\n",
              "      <th>Transaction_Count</th>\n",
              "      <th>Transaction_Amount</th>\n",
              "    </tr>\n",
              "  </thead>\n",
              "  <tbody>\n",
              "    <tr>\n",
              "      <th>0</th>\n",
              "      <td>Uttar Pradesh</td>\n",
              "      <td>2022</td>\n",
              "      <td>4</td>\n",
              "      <td>Merchant payments</td>\n",
              "      <td>439247166</td>\n",
              "      <td>2.967820e+11</td>\n",
              "    </tr>\n",
              "    <tr>\n",
              "      <th>1</th>\n",
              "      <td>Uttar Pradesh</td>\n",
              "      <td>2022</td>\n",
              "      <td>4</td>\n",
              "      <td>Peer-to-peer payments</td>\n",
              "      <td>317613698</td>\n",
              "      <td>1.030346e+12</td>\n",
              "    </tr>\n",
              "    <tr>\n",
              "      <th>2</th>\n",
              "      <td>Uttar Pradesh</td>\n",
              "      <td>2022</td>\n",
              "      <td>4</td>\n",
              "      <td>Recharge &amp; bill payments</td>\n",
              "      <td>78025017</td>\n",
              "      <td>4.815907e+10</td>\n",
              "    </tr>\n",
              "    <tr>\n",
              "      <th>3</th>\n",
              "      <td>Uttar Pradesh</td>\n",
              "      <td>2022</td>\n",
              "      <td>4</td>\n",
              "      <td>Financial Services</td>\n",
              "      <td>418329</td>\n",
              "      <td>4.302129e+08</td>\n",
              "    </tr>\n",
              "    <tr>\n",
              "      <th>4</th>\n",
              "      <td>Uttar Pradesh</td>\n",
              "      <td>2022</td>\n",
              "      <td>4</td>\n",
              "      <td>Others</td>\n",
              "      <td>1064861</td>\n",
              "      <td>6.619850e+08</td>\n",
              "    </tr>\n",
              "  </tbody>\n",
              "</table>\n",
              "</div>\n",
              "    <div class=\"colab-df-buttons\">\n",
              "\n",
              "  <div class=\"colab-df-container\">\n",
              "    <button class=\"colab-df-convert\" onclick=\"convertToInteractive('df-df8cdb4d-fff2-48c4-9710-afc1a2ea3497')\"\n",
              "            title=\"Convert this dataframe to an interactive table.\"\n",
              "            style=\"display:none;\">\n",
              "\n",
              "  <svg xmlns=\"http://www.w3.org/2000/svg\" height=\"24px\" viewBox=\"0 -960 960 960\">\n",
              "    <path d=\"M120-120v-720h720v720H120Zm60-500h600v-160H180v160Zm220 220h160v-160H400v160Zm0 220h160v-160H400v160ZM180-400h160v-160H180v160Zm440 0h160v-160H620v160ZM180-180h160v-160H180v160Zm440 0h160v-160H620v160Z\"/>\n",
              "  </svg>\n",
              "    </button>\n",
              "\n",
              "  <style>\n",
              "    .colab-df-container {\n",
              "      display:flex;\n",
              "      gap: 12px;\n",
              "    }\n",
              "\n",
              "    .colab-df-convert {\n",
              "      background-color: #E8F0FE;\n",
              "      border: none;\n",
              "      border-radius: 50%;\n",
              "      cursor: pointer;\n",
              "      display: none;\n",
              "      fill: #1967D2;\n",
              "      height: 32px;\n",
              "      padding: 0 0 0 0;\n",
              "      width: 32px;\n",
              "    }\n",
              "\n",
              "    .colab-df-convert:hover {\n",
              "      background-color: #E2EBFA;\n",
              "      box-shadow: 0px 1px 2px rgba(60, 64, 67, 0.3), 0px 1px 3px 1px rgba(60, 64, 67, 0.15);\n",
              "      fill: #174EA6;\n",
              "    }\n",
              "\n",
              "    .colab-df-buttons div {\n",
              "      margin-bottom: 4px;\n",
              "    }\n",
              "\n",
              "    [theme=dark] .colab-df-convert {\n",
              "      background-color: #3B4455;\n",
              "      fill: #D2E3FC;\n",
              "    }\n",
              "\n",
              "    [theme=dark] .colab-df-convert:hover {\n",
              "      background-color: #434B5C;\n",
              "      box-shadow: 0px 1px 3px 1px rgba(0, 0, 0, 0.15);\n",
              "      filter: drop-shadow(0px 1px 2px rgba(0, 0, 0, 0.3));\n",
              "      fill: #FFFFFF;\n",
              "    }\n",
              "  </style>\n",
              "\n",
              "    <script>\n",
              "      const buttonEl =\n",
              "        document.querySelector('#df-df8cdb4d-fff2-48c4-9710-afc1a2ea3497 button.colab-df-convert');\n",
              "      buttonEl.style.display =\n",
              "        google.colab.kernel.accessAllowed ? 'block' : 'none';\n",
              "\n",
              "      async function convertToInteractive(key) {\n",
              "        const element = document.querySelector('#df-df8cdb4d-fff2-48c4-9710-afc1a2ea3497');\n",
              "        const dataTable =\n",
              "          await google.colab.kernel.invokeFunction('convertToInteractive',\n",
              "                                                    [key], {});\n",
              "        if (!dataTable) return;\n",
              "\n",
              "        const docLinkHtml = 'Like what you see? Visit the ' +\n",
              "          '<a target=\"_blank\" href=https://colab.research.google.com/notebooks/data_table.ipynb>data table notebook</a>'\n",
              "          + ' to learn more about interactive tables.';\n",
              "        element.innerHTML = '';\n",
              "        dataTable['output_type'] = 'display_data';\n",
              "        await google.colab.output.renderOutput(dataTable, element);\n",
              "        const docLink = document.createElement('div');\n",
              "        docLink.innerHTML = docLinkHtml;\n",
              "        element.appendChild(docLink);\n",
              "      }\n",
              "    </script>\n",
              "  </div>\n",
              "\n",
              "\n",
              "    <div id=\"df-073781e6-a3f1-4959-a7e4-24d587aec8d0\">\n",
              "      <button class=\"colab-df-quickchart\" onclick=\"quickchart('df-073781e6-a3f1-4959-a7e4-24d587aec8d0')\"\n",
              "                title=\"Suggest charts\"\n",
              "                style=\"display:none;\">\n",
              "\n",
              "<svg xmlns=\"http://www.w3.org/2000/svg\" height=\"24px\"viewBox=\"0 0 24 24\"\n",
              "     width=\"24px\">\n",
              "    <g>\n",
              "        <path d=\"M19 3H5c-1.1 0-2 .9-2 2v14c0 1.1.9 2 2 2h14c1.1 0 2-.9 2-2V5c0-1.1-.9-2-2-2zM9 17H7v-7h2v7zm4 0h-2V7h2v10zm4 0h-2v-4h2v4z\"/>\n",
              "    </g>\n",
              "</svg>\n",
              "      </button>\n",
              "\n",
              "<style>\n",
              "  .colab-df-quickchart {\n",
              "      --bg-color: #E8F0FE;\n",
              "      --fill-color: #1967D2;\n",
              "      --hover-bg-color: #E2EBFA;\n",
              "      --hover-fill-color: #174EA6;\n",
              "      --disabled-fill-color: #AAA;\n",
              "      --disabled-bg-color: #DDD;\n",
              "  }\n",
              "\n",
              "  [theme=dark] .colab-df-quickchart {\n",
              "      --bg-color: #3B4455;\n",
              "      --fill-color: #D2E3FC;\n",
              "      --hover-bg-color: #434B5C;\n",
              "      --hover-fill-color: #FFFFFF;\n",
              "      --disabled-bg-color: #3B4455;\n",
              "      --disabled-fill-color: #666;\n",
              "  }\n",
              "\n",
              "  .colab-df-quickchart {\n",
              "    background-color: var(--bg-color);\n",
              "    border: none;\n",
              "    border-radius: 50%;\n",
              "    cursor: pointer;\n",
              "    display: none;\n",
              "    fill: var(--fill-color);\n",
              "    height: 32px;\n",
              "    padding: 0;\n",
              "    width: 32px;\n",
              "  }\n",
              "\n",
              "  .colab-df-quickchart:hover {\n",
              "    background-color: var(--hover-bg-color);\n",
              "    box-shadow: 0 1px 2px rgba(60, 64, 67, 0.3), 0 1px 3px 1px rgba(60, 64, 67, 0.15);\n",
              "    fill: var(--button-hover-fill-color);\n",
              "  }\n",
              "\n",
              "  .colab-df-quickchart-complete:disabled,\n",
              "  .colab-df-quickchart-complete:disabled:hover {\n",
              "    background-color: var(--disabled-bg-color);\n",
              "    fill: var(--disabled-fill-color);\n",
              "    box-shadow: none;\n",
              "  }\n",
              "\n",
              "  .colab-df-spinner {\n",
              "    border: 2px solid var(--fill-color);\n",
              "    border-color: transparent;\n",
              "    border-bottom-color: var(--fill-color);\n",
              "    animation:\n",
              "      spin 1s steps(1) infinite;\n",
              "  }\n",
              "\n",
              "  @keyframes spin {\n",
              "    0% {\n",
              "      border-color: transparent;\n",
              "      border-bottom-color: var(--fill-color);\n",
              "      border-left-color: var(--fill-color);\n",
              "    }\n",
              "    20% {\n",
              "      border-color: transparent;\n",
              "      border-left-color: var(--fill-color);\n",
              "      border-top-color: var(--fill-color);\n",
              "    }\n",
              "    30% {\n",
              "      border-color: transparent;\n",
              "      border-left-color: var(--fill-color);\n",
              "      border-top-color: var(--fill-color);\n",
              "      border-right-color: var(--fill-color);\n",
              "    }\n",
              "    40% {\n",
              "      border-color: transparent;\n",
              "      border-right-color: var(--fill-color);\n",
              "      border-top-color: var(--fill-color);\n",
              "    }\n",
              "    60% {\n",
              "      border-color: transparent;\n",
              "      border-right-color: var(--fill-color);\n",
              "    }\n",
              "    80% {\n",
              "      border-color: transparent;\n",
              "      border-right-color: var(--fill-color);\n",
              "      border-bottom-color: var(--fill-color);\n",
              "    }\n",
              "    90% {\n",
              "      border-color: transparent;\n",
              "      border-bottom-color: var(--fill-color);\n",
              "    }\n",
              "  }\n",
              "</style>\n",
              "\n",
              "      <script>\n",
              "        async function quickchart(key) {\n",
              "          const quickchartButtonEl =\n",
              "            document.querySelector('#' + key + ' button');\n",
              "          quickchartButtonEl.disabled = true;  // To prevent multiple clicks.\n",
              "          quickchartButtonEl.classList.add('colab-df-spinner');\n",
              "          try {\n",
              "            const charts = await google.colab.kernel.invokeFunction(\n",
              "                'suggestCharts', [key], {});\n",
              "          } catch (error) {\n",
              "            console.error('Error during call to suggestCharts:', error);\n",
              "          }\n",
              "          quickchartButtonEl.classList.remove('colab-df-spinner');\n",
              "          quickchartButtonEl.classList.add('colab-df-quickchart-complete');\n",
              "        }\n",
              "        (() => {\n",
              "          let quickchartButtonEl =\n",
              "            document.querySelector('#df-073781e6-a3f1-4959-a7e4-24d587aec8d0 button');\n",
              "          quickchartButtonEl.style.display =\n",
              "            google.colab.kernel.accessAllowed ? 'block' : 'none';\n",
              "        })();\n",
              "      </script>\n",
              "    </div>\n",
              "\n",
              "    </div>\n",
              "  </div>\n"
            ],
            "application/vnd.google.colaboratory.intrinsic+json": {
              "type": "dataframe",
              "variable_name": "df_agg_trans",
              "summary": "{\n  \"name\": \"df_agg_trans\",\n  \"rows\": 5034,\n  \"fields\": [\n    {\n      \"column\": \"State\",\n      \"properties\": {\n        \"dtype\": \"category\",\n        \"num_unique_values\": 36,\n        \"samples\": [\n          \"Gujarat\",\n          \"Andhra Pradesh\",\n          \"Tamil Nadu\"\n        ],\n        \"semantic_type\": \"\",\n        \"description\": \"\"\n      }\n    },\n    {\n      \"column\": \"Year\",\n      \"properties\": {\n        \"dtype\": \"number\",\n        \"std\": 1,\n        \"min\": 2018,\n        \"max\": 2024,\n        \"num_unique_values\": 7,\n        \"samples\": [\n          2022,\n          2020,\n          2019\n        ],\n        \"semantic_type\": \"\",\n        \"description\": \"\"\n      }\n    },\n    {\n      \"column\": \"Quarter\",\n      \"properties\": {\n        \"dtype\": \"number\",\n        \"std\": 1,\n        \"min\": 1,\n        \"max\": 4,\n        \"num_unique_values\": 4,\n        \"samples\": [\n          2,\n          1,\n          4\n        ],\n        \"semantic_type\": \"\",\n        \"description\": \"\"\n      }\n    },\n    {\n      \"column\": \"Transaction_Type\",\n      \"properties\": {\n        \"dtype\": \"category\",\n        \"num_unique_values\": 5,\n        \"samples\": [\n          \"Peer-to-peer payments\",\n          \"Others\",\n          \"Recharge & bill payments\"\n        ],\n        \"semantic_type\": \"\",\n        \"description\": \"\"\n      }\n    },\n    {\n      \"column\": \"Transaction_Count\",\n      \"properties\": {\n        \"dtype\": \"number\",\n        \"std\": 169096816,\n        \"min\": 2,\n        \"max\": 2393917535,\n        \"num_unique_values\": 4966,\n        \"samples\": [\n          82232131,\n          113961,\n          3656\n        ],\n        \"semantic_type\": \"\",\n        \"description\": \"\"\n      }\n    },\n    {\n      \"column\": \"Transaction_Amount\",\n      \"properties\": {\n        \"dtype\": \"number\",\n        \"std\": 268519963110.14932,\n        \"min\": 34.39721181625656,\n        \"max\": 3095666288407.0,\n        \"num_unique_values\": 5034,\n        \"samples\": [\n          91214897.18744522,\n          161987346.1868727,\n          5153014.0\n        ],\n        \"semantic_type\": \"\",\n        \"description\": \"\"\n      }\n    }\n  ]\n}"
            }
          },
          "metadata": {},
          "execution_count": 32
        }
      ]
    },
    {
      "cell_type": "code",
      "source": [
        "df_agg_trans.info()"
      ],
      "metadata": {
        "colab": {
          "base_uri": "https://localhost:8080/"
        },
        "id": "Nku7iCUiNP7E",
        "outputId": "f3d17afd-07e6-41f1-aa15-c512ea075be9"
      },
      "execution_count": null,
      "outputs": [
        {
          "output_type": "stream",
          "name": "stdout",
          "text": [
            "<class 'pandas.core.frame.DataFrame'>\n",
            "RangeIndex: 5034 entries, 0 to 5033\n",
            "Data columns (total 6 columns):\n",
            " #   Column              Non-Null Count  Dtype  \n",
            "---  ------              --------------  -----  \n",
            " 0   State               5034 non-null   object \n",
            " 1   Year                5034 non-null   int64  \n",
            " 2   Quarter             5034 non-null   int64  \n",
            " 3   Transaction_Type    5034 non-null   object \n",
            " 4   Transaction_Count   5034 non-null   int64  \n",
            " 5   Transaction_Amount  5034 non-null   float64\n",
            "dtypes: float64(1), int64(3), object(2)\n",
            "memory usage: 236.1+ KB\n"
          ]
        }
      ]
    },
    {
      "cell_type": "code",
      "source": [
        "df_agg_trans.isnull().sum()"
      ],
      "metadata": {
        "colab": {
          "base_uri": "https://localhost:8080/",
          "height": 272
        },
        "id": "Hg2v-WWUNfFX",
        "outputId": "20b5a251-1602-4051-a682-a1b5ad67cc8e"
      },
      "execution_count": null,
      "outputs": [
        {
          "output_type": "execute_result",
          "data": {
            "text/plain": [
              "State                 0\n",
              "Year                  0\n",
              "Quarter               0\n",
              "Transaction_Type      0\n",
              "Transaction_Count     0\n",
              "Transaction_Amount    0\n",
              "dtype: int64"
            ],
            "text/html": [
              "<div>\n",
              "<style scoped>\n",
              "    .dataframe tbody tr th:only-of-type {\n",
              "        vertical-align: middle;\n",
              "    }\n",
              "\n",
              "    .dataframe tbody tr th {\n",
              "        vertical-align: top;\n",
              "    }\n",
              "\n",
              "    .dataframe thead th {\n",
              "        text-align: right;\n",
              "    }\n",
              "</style>\n",
              "<table border=\"1\" class=\"dataframe\">\n",
              "  <thead>\n",
              "    <tr style=\"text-align: right;\">\n",
              "      <th></th>\n",
              "      <th>0</th>\n",
              "    </tr>\n",
              "  </thead>\n",
              "  <tbody>\n",
              "    <tr>\n",
              "      <th>State</th>\n",
              "      <td>0</td>\n",
              "    </tr>\n",
              "    <tr>\n",
              "      <th>Year</th>\n",
              "      <td>0</td>\n",
              "    </tr>\n",
              "    <tr>\n",
              "      <th>Quarter</th>\n",
              "      <td>0</td>\n",
              "    </tr>\n",
              "    <tr>\n",
              "      <th>Transaction_Type</th>\n",
              "      <td>0</td>\n",
              "    </tr>\n",
              "    <tr>\n",
              "      <th>Transaction_Count</th>\n",
              "      <td>0</td>\n",
              "    </tr>\n",
              "    <tr>\n",
              "      <th>Transaction_Amount</th>\n",
              "      <td>0</td>\n",
              "    </tr>\n",
              "  </tbody>\n",
              "</table>\n",
              "</div><br><label><b>dtype:</b> int64</label>"
            ]
          },
          "metadata": {},
          "execution_count": 34
        }
      ]
    },
    {
      "cell_type": "markdown",
      "source": [
        "#Aggregated Users\n"
      ],
      "metadata": {
        "id": "JhQ_CTh8Nnua"
      }
    },
    {
      "cell_type": "code",
      "source": [
        "df_agg_user.head()"
      ],
      "metadata": {
        "colab": {
          "base_uri": "https://localhost:8080/",
          "height": 206
        },
        "id": "9tr87p4INorJ",
        "outputId": "ba5913f8-7b80-4f95-e279-45e46b17f536"
      },
      "execution_count": null,
      "outputs": [
        {
          "output_type": "execute_result",
          "data": {
            "text/plain": [
              "           State  Year  Quarter  Registered_Users  App_Opens Brand  Count  \\\n",
              "0  Uttar Pradesh  2022        4                 0          0  None      0   \n",
              "1  Uttar Pradesh  2022        2                 0          0  None      0   \n",
              "2  Uttar Pradesh  2022        3                 0          0  None      0   \n",
              "3  Uttar Pradesh  2022        1                 0          0  None      0   \n",
              "4  Uttar Pradesh  2020        4                 0          0  None      0   \n",
              "\n",
              "   Percentage  \n",
              "0         0.0  \n",
              "1         0.0  \n",
              "2         0.0  \n",
              "3         0.0  \n",
              "4         0.0  "
            ],
            "text/html": [
              "\n",
              "  <div id=\"df-1c90e0c9-d468-4198-9421-ccf3ccce8c48\" class=\"colab-df-container\">\n",
              "    <div>\n",
              "<style scoped>\n",
              "    .dataframe tbody tr th:only-of-type {\n",
              "        vertical-align: middle;\n",
              "    }\n",
              "\n",
              "    .dataframe tbody tr th {\n",
              "        vertical-align: top;\n",
              "    }\n",
              "\n",
              "    .dataframe thead th {\n",
              "        text-align: right;\n",
              "    }\n",
              "</style>\n",
              "<table border=\"1\" class=\"dataframe\">\n",
              "  <thead>\n",
              "    <tr style=\"text-align: right;\">\n",
              "      <th></th>\n",
              "      <th>State</th>\n",
              "      <th>Year</th>\n",
              "      <th>Quarter</th>\n",
              "      <th>Registered_Users</th>\n",
              "      <th>App_Opens</th>\n",
              "      <th>Brand</th>\n",
              "      <th>Count</th>\n",
              "      <th>Percentage</th>\n",
              "    </tr>\n",
              "  </thead>\n",
              "  <tbody>\n",
              "    <tr>\n",
              "      <th>0</th>\n",
              "      <td>Uttar Pradesh</td>\n",
              "      <td>2022</td>\n",
              "      <td>4</td>\n",
              "      <td>0</td>\n",
              "      <td>0</td>\n",
              "      <td>None</td>\n",
              "      <td>0</td>\n",
              "      <td>0.0</td>\n",
              "    </tr>\n",
              "    <tr>\n",
              "      <th>1</th>\n",
              "      <td>Uttar Pradesh</td>\n",
              "      <td>2022</td>\n",
              "      <td>2</td>\n",
              "      <td>0</td>\n",
              "      <td>0</td>\n",
              "      <td>None</td>\n",
              "      <td>0</td>\n",
              "      <td>0.0</td>\n",
              "    </tr>\n",
              "    <tr>\n",
              "      <th>2</th>\n",
              "      <td>Uttar Pradesh</td>\n",
              "      <td>2022</td>\n",
              "      <td>3</td>\n",
              "      <td>0</td>\n",
              "      <td>0</td>\n",
              "      <td>None</td>\n",
              "      <td>0</td>\n",
              "      <td>0.0</td>\n",
              "    </tr>\n",
              "    <tr>\n",
              "      <th>3</th>\n",
              "      <td>Uttar Pradesh</td>\n",
              "      <td>2022</td>\n",
              "      <td>1</td>\n",
              "      <td>0</td>\n",
              "      <td>0</td>\n",
              "      <td>None</td>\n",
              "      <td>0</td>\n",
              "      <td>0.0</td>\n",
              "    </tr>\n",
              "    <tr>\n",
              "      <th>4</th>\n",
              "      <td>Uttar Pradesh</td>\n",
              "      <td>2020</td>\n",
              "      <td>4</td>\n",
              "      <td>0</td>\n",
              "      <td>0</td>\n",
              "      <td>None</td>\n",
              "      <td>0</td>\n",
              "      <td>0.0</td>\n",
              "    </tr>\n",
              "  </tbody>\n",
              "</table>\n",
              "</div>\n",
              "    <div class=\"colab-df-buttons\">\n",
              "\n",
              "  <div class=\"colab-df-container\">\n",
              "    <button class=\"colab-df-convert\" onclick=\"convertToInteractive('df-1c90e0c9-d468-4198-9421-ccf3ccce8c48')\"\n",
              "            title=\"Convert this dataframe to an interactive table.\"\n",
              "            style=\"display:none;\">\n",
              "\n",
              "  <svg xmlns=\"http://www.w3.org/2000/svg\" height=\"24px\" viewBox=\"0 -960 960 960\">\n",
              "    <path d=\"M120-120v-720h720v720H120Zm60-500h600v-160H180v160Zm220 220h160v-160H400v160Zm0 220h160v-160H400v160ZM180-400h160v-160H180v160Zm440 0h160v-160H620v160ZM180-180h160v-160H180v160Zm440 0h160v-160H620v160Z\"/>\n",
              "  </svg>\n",
              "    </button>\n",
              "\n",
              "  <style>\n",
              "    .colab-df-container {\n",
              "      display:flex;\n",
              "      gap: 12px;\n",
              "    }\n",
              "\n",
              "    .colab-df-convert {\n",
              "      background-color: #E8F0FE;\n",
              "      border: none;\n",
              "      border-radius: 50%;\n",
              "      cursor: pointer;\n",
              "      display: none;\n",
              "      fill: #1967D2;\n",
              "      height: 32px;\n",
              "      padding: 0 0 0 0;\n",
              "      width: 32px;\n",
              "    }\n",
              "\n",
              "    .colab-df-convert:hover {\n",
              "      background-color: #E2EBFA;\n",
              "      box-shadow: 0px 1px 2px rgba(60, 64, 67, 0.3), 0px 1px 3px 1px rgba(60, 64, 67, 0.15);\n",
              "      fill: #174EA6;\n",
              "    }\n",
              "\n",
              "    .colab-df-buttons div {\n",
              "      margin-bottom: 4px;\n",
              "    }\n",
              "\n",
              "    [theme=dark] .colab-df-convert {\n",
              "      background-color: #3B4455;\n",
              "      fill: #D2E3FC;\n",
              "    }\n",
              "\n",
              "    [theme=dark] .colab-df-convert:hover {\n",
              "      background-color: #434B5C;\n",
              "      box-shadow: 0px 1px 3px 1px rgba(0, 0, 0, 0.15);\n",
              "      filter: drop-shadow(0px 1px 2px rgba(0, 0, 0, 0.3));\n",
              "      fill: #FFFFFF;\n",
              "    }\n",
              "  </style>\n",
              "\n",
              "    <script>\n",
              "      const buttonEl =\n",
              "        document.querySelector('#df-1c90e0c9-d468-4198-9421-ccf3ccce8c48 button.colab-df-convert');\n",
              "      buttonEl.style.display =\n",
              "        google.colab.kernel.accessAllowed ? 'block' : 'none';\n",
              "\n",
              "      async function convertToInteractive(key) {\n",
              "        const element = document.querySelector('#df-1c90e0c9-d468-4198-9421-ccf3ccce8c48');\n",
              "        const dataTable =\n",
              "          await google.colab.kernel.invokeFunction('convertToInteractive',\n",
              "                                                    [key], {});\n",
              "        if (!dataTable) return;\n",
              "\n",
              "        const docLinkHtml = 'Like what you see? Visit the ' +\n",
              "          '<a target=\"_blank\" href=https://colab.research.google.com/notebooks/data_table.ipynb>data table notebook</a>'\n",
              "          + ' to learn more about interactive tables.';\n",
              "        element.innerHTML = '';\n",
              "        dataTable['output_type'] = 'display_data';\n",
              "        await google.colab.output.renderOutput(dataTable, element);\n",
              "        const docLink = document.createElement('div');\n",
              "        docLink.innerHTML = docLinkHtml;\n",
              "        element.appendChild(docLink);\n",
              "      }\n",
              "    </script>\n",
              "  </div>\n",
              "\n",
              "\n",
              "    <div id=\"df-795d318f-6439-4a5d-ba7c-e18292b32eeb\">\n",
              "      <button class=\"colab-df-quickchart\" onclick=\"quickchart('df-795d318f-6439-4a5d-ba7c-e18292b32eeb')\"\n",
              "                title=\"Suggest charts\"\n",
              "                style=\"display:none;\">\n",
              "\n",
              "<svg xmlns=\"http://www.w3.org/2000/svg\" height=\"24px\"viewBox=\"0 0 24 24\"\n",
              "     width=\"24px\">\n",
              "    <g>\n",
              "        <path d=\"M19 3H5c-1.1 0-2 .9-2 2v14c0 1.1.9 2 2 2h14c1.1 0 2-.9 2-2V5c0-1.1-.9-2-2-2zM9 17H7v-7h2v7zm4 0h-2V7h2v10zm4 0h-2v-4h2v4z\"/>\n",
              "    </g>\n",
              "</svg>\n",
              "      </button>\n",
              "\n",
              "<style>\n",
              "  .colab-df-quickchart {\n",
              "      --bg-color: #E8F0FE;\n",
              "      --fill-color: #1967D2;\n",
              "      --hover-bg-color: #E2EBFA;\n",
              "      --hover-fill-color: #174EA6;\n",
              "      --disabled-fill-color: #AAA;\n",
              "      --disabled-bg-color: #DDD;\n",
              "  }\n",
              "\n",
              "  [theme=dark] .colab-df-quickchart {\n",
              "      --bg-color: #3B4455;\n",
              "      --fill-color: #D2E3FC;\n",
              "      --hover-bg-color: #434B5C;\n",
              "      --hover-fill-color: #FFFFFF;\n",
              "      --disabled-bg-color: #3B4455;\n",
              "      --disabled-fill-color: #666;\n",
              "  }\n",
              "\n",
              "  .colab-df-quickchart {\n",
              "    background-color: var(--bg-color);\n",
              "    border: none;\n",
              "    border-radius: 50%;\n",
              "    cursor: pointer;\n",
              "    display: none;\n",
              "    fill: var(--fill-color);\n",
              "    height: 32px;\n",
              "    padding: 0;\n",
              "    width: 32px;\n",
              "  }\n",
              "\n",
              "  .colab-df-quickchart:hover {\n",
              "    background-color: var(--hover-bg-color);\n",
              "    box-shadow: 0 1px 2px rgba(60, 64, 67, 0.3), 0 1px 3px 1px rgba(60, 64, 67, 0.15);\n",
              "    fill: var(--button-hover-fill-color);\n",
              "  }\n",
              "\n",
              "  .colab-df-quickchart-complete:disabled,\n",
              "  .colab-df-quickchart-complete:disabled:hover {\n",
              "    background-color: var(--disabled-bg-color);\n",
              "    fill: var(--disabled-fill-color);\n",
              "    box-shadow: none;\n",
              "  }\n",
              "\n",
              "  .colab-df-spinner {\n",
              "    border: 2px solid var(--fill-color);\n",
              "    border-color: transparent;\n",
              "    border-bottom-color: var(--fill-color);\n",
              "    animation:\n",
              "      spin 1s steps(1) infinite;\n",
              "  }\n",
              "\n",
              "  @keyframes spin {\n",
              "    0% {\n",
              "      border-color: transparent;\n",
              "      border-bottom-color: var(--fill-color);\n",
              "      border-left-color: var(--fill-color);\n",
              "    }\n",
              "    20% {\n",
              "      border-color: transparent;\n",
              "      border-left-color: var(--fill-color);\n",
              "      border-top-color: var(--fill-color);\n",
              "    }\n",
              "    30% {\n",
              "      border-color: transparent;\n",
              "      border-left-color: var(--fill-color);\n",
              "      border-top-color: var(--fill-color);\n",
              "      border-right-color: var(--fill-color);\n",
              "    }\n",
              "    40% {\n",
              "      border-color: transparent;\n",
              "      border-right-color: var(--fill-color);\n",
              "      border-top-color: var(--fill-color);\n",
              "    }\n",
              "    60% {\n",
              "      border-color: transparent;\n",
              "      border-right-color: var(--fill-color);\n",
              "    }\n",
              "    80% {\n",
              "      border-color: transparent;\n",
              "      border-right-color: var(--fill-color);\n",
              "      border-bottom-color: var(--fill-color);\n",
              "    }\n",
              "    90% {\n",
              "      border-color: transparent;\n",
              "      border-bottom-color: var(--fill-color);\n",
              "    }\n",
              "  }\n",
              "</style>\n",
              "\n",
              "      <script>\n",
              "        async function quickchart(key) {\n",
              "          const quickchartButtonEl =\n",
              "            document.querySelector('#' + key + ' button');\n",
              "          quickchartButtonEl.disabled = true;  // To prevent multiple clicks.\n",
              "          quickchartButtonEl.classList.add('colab-df-spinner');\n",
              "          try {\n",
              "            const charts = await google.colab.kernel.invokeFunction(\n",
              "                'suggestCharts', [key], {});\n",
              "          } catch (error) {\n",
              "            console.error('Error during call to suggestCharts:', error);\n",
              "          }\n",
              "          quickchartButtonEl.classList.remove('colab-df-spinner');\n",
              "          quickchartButtonEl.classList.add('colab-df-quickchart-complete');\n",
              "        }\n",
              "        (() => {\n",
              "          let quickchartButtonEl =\n",
              "            document.querySelector('#df-795d318f-6439-4a5d-ba7c-e18292b32eeb button');\n",
              "          quickchartButtonEl.style.display =\n",
              "            google.colab.kernel.accessAllowed ? 'block' : 'none';\n",
              "        })();\n",
              "      </script>\n",
              "    </div>\n",
              "\n",
              "    </div>\n",
              "  </div>\n"
            ],
            "application/vnd.google.colaboratory.intrinsic+json": {
              "type": "dataframe",
              "variable_name": "df_agg_user",
              "repr_error": "Out of range float values are not JSON compliant: nan"
            }
          },
          "metadata": {},
          "execution_count": 35
        }
      ]
    },
    {
      "cell_type": "code",
      "source": [
        "df_agg_user.info()"
      ],
      "metadata": {
        "colab": {
          "base_uri": "https://localhost:8080/"
        },
        "id": "vTKxMeYyNvAP",
        "outputId": "a84d7a67-871e-49eb-ef22-49b9883cf0cf"
      },
      "execution_count": null,
      "outputs": [
        {
          "output_type": "stream",
          "name": "stdout",
          "text": [
            "<class 'pandas.core.frame.DataFrame'>\n",
            "RangeIndex: 1008 entries, 0 to 1007\n",
            "Data columns (total 8 columns):\n",
            " #   Column            Non-Null Count  Dtype  \n",
            "---  ------            --------------  -----  \n",
            " 0   State             1008 non-null   object \n",
            " 1   Year              1008 non-null   int64  \n",
            " 2   Quarter           1008 non-null   int64  \n",
            " 3   Registered_Users  1008 non-null   int64  \n",
            " 4   App_Opens         1008 non-null   int64  \n",
            " 5   Brand             0 non-null      object \n",
            " 6   Count             1008 non-null   int64  \n",
            " 7   Percentage        1008 non-null   float64\n",
            "dtypes: float64(1), int64(5), object(2)\n",
            "memory usage: 63.1+ KB\n"
          ]
        }
      ]
    },
    {
      "cell_type": "code",
      "source": [
        "df_agg_user.isnull().sum()"
      ],
      "metadata": {
        "colab": {
          "base_uri": "https://localhost:8080/",
          "height": 335
        },
        "id": "Lj1mCWF-Ny65",
        "outputId": "02c720cd-7c19-4946-f0bd-8c8b41f0202f"
      },
      "execution_count": null,
      "outputs": [
        {
          "output_type": "execute_result",
          "data": {
            "text/plain": [
              "State                  0\n",
              "Year                   0\n",
              "Quarter                0\n",
              "Registered_Users       0\n",
              "App_Opens              0\n",
              "Brand               1008\n",
              "Count                  0\n",
              "Percentage             0\n",
              "dtype: int64"
            ],
            "text/html": [
              "<div>\n",
              "<style scoped>\n",
              "    .dataframe tbody tr th:only-of-type {\n",
              "        vertical-align: middle;\n",
              "    }\n",
              "\n",
              "    .dataframe tbody tr th {\n",
              "        vertical-align: top;\n",
              "    }\n",
              "\n",
              "    .dataframe thead th {\n",
              "        text-align: right;\n",
              "    }\n",
              "</style>\n",
              "<table border=\"1\" class=\"dataframe\">\n",
              "  <thead>\n",
              "    <tr style=\"text-align: right;\">\n",
              "      <th></th>\n",
              "      <th>0</th>\n",
              "    </tr>\n",
              "  </thead>\n",
              "  <tbody>\n",
              "    <tr>\n",
              "      <th>State</th>\n",
              "      <td>0</td>\n",
              "    </tr>\n",
              "    <tr>\n",
              "      <th>Year</th>\n",
              "      <td>0</td>\n",
              "    </tr>\n",
              "    <tr>\n",
              "      <th>Quarter</th>\n",
              "      <td>0</td>\n",
              "    </tr>\n",
              "    <tr>\n",
              "      <th>Registered_Users</th>\n",
              "      <td>0</td>\n",
              "    </tr>\n",
              "    <tr>\n",
              "      <th>App_Opens</th>\n",
              "      <td>0</td>\n",
              "    </tr>\n",
              "    <tr>\n",
              "      <th>Brand</th>\n",
              "      <td>1008</td>\n",
              "    </tr>\n",
              "    <tr>\n",
              "      <th>Count</th>\n",
              "      <td>0</td>\n",
              "    </tr>\n",
              "    <tr>\n",
              "      <th>Percentage</th>\n",
              "      <td>0</td>\n",
              "    </tr>\n",
              "  </tbody>\n",
              "</table>\n",
              "</div><br><label><b>dtype:</b> int64</label>"
            ]
          },
          "metadata": {},
          "execution_count": 37
        }
      ]
    },
    {
      "cell_type": "markdown",
      "source": [
        "#Map Transactions"
      ],
      "metadata": {
        "id": "t0LtSieFN3Pr"
      }
    },
    {
      "cell_type": "code",
      "source": [
        "df_map_trans.head()"
      ],
      "metadata": {
        "colab": {
          "base_uri": "https://localhost:8080/",
          "height": 53
        },
        "id": "QniBUpCHN45U",
        "outputId": "3a950d40-da26-4800-97f1-d97c3bf46df0"
      },
      "execution_count": null,
      "outputs": [
        {
          "output_type": "execute_result",
          "data": {
            "text/plain": [
              "Empty DataFrame\n",
              "Columns: []\n",
              "Index: []"
            ],
            "text/html": [
              "\n",
              "  <div id=\"df-3d0d31a8-dada-4c6b-8c6a-91ba8e1d840e\" class=\"colab-df-container\">\n",
              "    <div>\n",
              "<style scoped>\n",
              "    .dataframe tbody tr th:only-of-type {\n",
              "        vertical-align: middle;\n",
              "    }\n",
              "\n",
              "    .dataframe tbody tr th {\n",
              "        vertical-align: top;\n",
              "    }\n",
              "\n",
              "    .dataframe thead th {\n",
              "        text-align: right;\n",
              "    }\n",
              "</style>\n",
              "<table border=\"1\" class=\"dataframe\">\n",
              "  <thead>\n",
              "    <tr style=\"text-align: right;\">\n",
              "      <th></th>\n",
              "    </tr>\n",
              "  </thead>\n",
              "  <tbody>\n",
              "  </tbody>\n",
              "</table>\n",
              "</div>\n",
              "    <div class=\"colab-df-buttons\">\n",
              "\n",
              "  <div class=\"colab-df-container\">\n",
              "    <button class=\"colab-df-convert\" onclick=\"convertToInteractive('df-3d0d31a8-dada-4c6b-8c6a-91ba8e1d840e')\"\n",
              "            title=\"Convert this dataframe to an interactive table.\"\n",
              "            style=\"display:none;\">\n",
              "\n",
              "  <svg xmlns=\"http://www.w3.org/2000/svg\" height=\"24px\" viewBox=\"0 -960 960 960\">\n",
              "    <path d=\"M120-120v-720h720v720H120Zm60-500h600v-160H180v160Zm220 220h160v-160H400v160Zm0 220h160v-160H400v160ZM180-400h160v-160H180v160Zm440 0h160v-160H620v160ZM180-180h160v-160H180v160Zm440 0h160v-160H620v160Z\"/>\n",
              "  </svg>\n",
              "    </button>\n",
              "\n",
              "  <style>\n",
              "    .colab-df-container {\n",
              "      display:flex;\n",
              "      gap: 12px;\n",
              "    }\n",
              "\n",
              "    .colab-df-convert {\n",
              "      background-color: #E8F0FE;\n",
              "      border: none;\n",
              "      border-radius: 50%;\n",
              "      cursor: pointer;\n",
              "      display: none;\n",
              "      fill: #1967D2;\n",
              "      height: 32px;\n",
              "      padding: 0 0 0 0;\n",
              "      width: 32px;\n",
              "    }\n",
              "\n",
              "    .colab-df-convert:hover {\n",
              "      background-color: #E2EBFA;\n",
              "      box-shadow: 0px 1px 2px rgba(60, 64, 67, 0.3), 0px 1px 3px 1px rgba(60, 64, 67, 0.15);\n",
              "      fill: #174EA6;\n",
              "    }\n",
              "\n",
              "    .colab-df-buttons div {\n",
              "      margin-bottom: 4px;\n",
              "    }\n",
              "\n",
              "    [theme=dark] .colab-df-convert {\n",
              "      background-color: #3B4455;\n",
              "      fill: #D2E3FC;\n",
              "    }\n",
              "\n",
              "    [theme=dark] .colab-df-convert:hover {\n",
              "      background-color: #434B5C;\n",
              "      box-shadow: 0px 1px 3px 1px rgba(0, 0, 0, 0.15);\n",
              "      filter: drop-shadow(0px 1px 2px rgba(0, 0, 0, 0.3));\n",
              "      fill: #FFFFFF;\n",
              "    }\n",
              "  </style>\n",
              "\n",
              "    <script>\n",
              "      const buttonEl =\n",
              "        document.querySelector('#df-3d0d31a8-dada-4c6b-8c6a-91ba8e1d840e button.colab-df-convert');\n",
              "      buttonEl.style.display =\n",
              "        google.colab.kernel.accessAllowed ? 'block' : 'none';\n",
              "\n",
              "      async function convertToInteractive(key) {\n",
              "        const element = document.querySelector('#df-3d0d31a8-dada-4c6b-8c6a-91ba8e1d840e');\n",
              "        const dataTable =\n",
              "          await google.colab.kernel.invokeFunction('convertToInteractive',\n",
              "                                                    [key], {});\n",
              "        if (!dataTable) return;\n",
              "\n",
              "        const docLinkHtml = 'Like what you see? Visit the ' +\n",
              "          '<a target=\"_blank\" href=https://colab.research.google.com/notebooks/data_table.ipynb>data table notebook</a>'\n",
              "          + ' to learn more about interactive tables.';\n",
              "        element.innerHTML = '';\n",
              "        dataTable['output_type'] = 'display_data';\n",
              "        await google.colab.output.renderOutput(dataTable, element);\n",
              "        const docLink = document.createElement('div');\n",
              "        docLink.innerHTML = docLinkHtml;\n",
              "        element.appendChild(docLink);\n",
              "      }\n",
              "    </script>\n",
              "  </div>\n",
              "\n",
              "\n",
              "    </div>\n",
              "  </div>\n"
            ],
            "application/vnd.google.colaboratory.intrinsic+json": {
              "type": "dataframe",
              "variable_name": "df_map_trans",
              "summary": "{\n  \"name\": \"df_map_trans\",\n  \"rows\": 0,\n  \"fields\": []\n}"
            }
          },
          "metadata": {},
          "execution_count": 38
        }
      ]
    },
    {
      "cell_type": "code",
      "source": [
        "df_map_trans.info()"
      ],
      "metadata": {
        "colab": {
          "base_uri": "https://localhost:8080/"
        },
        "id": "UXSg5LzdN_OB",
        "outputId": "d901e25a-33b6-43a0-d457-75da87883e16"
      },
      "execution_count": null,
      "outputs": [
        {
          "output_type": "stream",
          "name": "stdout",
          "text": [
            "<class 'pandas.core.frame.DataFrame'>\n",
            "RangeIndex: 0 entries\n",
            "Empty DataFrame\n"
          ]
        }
      ]
    },
    {
      "cell_type": "code",
      "source": [
        "df_map_trans.isnull().sum()"
      ],
      "metadata": {
        "colab": {
          "base_uri": "https://localhost:8080/",
          "height": 84
        },
        "id": "bu72_FFLOCbc",
        "outputId": "c4b348b1-d4df-460f-8a62-f52887810186"
      },
      "execution_count": null,
      "outputs": [
        {
          "output_type": "execute_result",
          "data": {
            "text/plain": [
              "Series([], dtype: float64)"
            ],
            "text/html": [
              "<div>\n",
              "<style scoped>\n",
              "    .dataframe tbody tr th:only-of-type {\n",
              "        vertical-align: middle;\n",
              "    }\n",
              "\n",
              "    .dataframe tbody tr th {\n",
              "        vertical-align: top;\n",
              "    }\n",
              "\n",
              "    .dataframe thead th {\n",
              "        text-align: right;\n",
              "    }\n",
              "</style>\n",
              "<table border=\"1\" class=\"dataframe\">\n",
              "  <thead>\n",
              "    <tr style=\"text-align: right;\">\n",
              "      <th></th>\n",
              "      <th>0</th>\n",
              "    </tr>\n",
              "  </thead>\n",
              "  <tbody>\n",
              "  </tbody>\n",
              "</table>\n",
              "</div><br><label><b>dtype:</b> float64</label>"
            ]
          },
          "metadata": {},
          "execution_count": 40
        }
      ]
    },
    {
      "cell_type": "markdown",
      "source": [
        "#Top Transactions\n"
      ],
      "metadata": {
        "id": "DsLPyGRHOGeB"
      }
    },
    {
      "cell_type": "code",
      "source": [
        "df_top_trans.head()"
      ],
      "metadata": {
        "colab": {
          "base_uri": "https://localhost:8080/",
          "height": 206
        },
        "id": "CZGKWeSFOI7J",
        "outputId": "50f2a364-53ca-403a-b143-0d58a2e0dcc7"
      },
      "execution_count": null,
      "outputs": [
        {
          "output_type": "execute_result",
          "data": {
            "text/plain": [
              "           State  Year  Quarter Entity_Type          Entity_Name  \\\n",
              "0  Uttar Pradesh  2022        4   Districts              lucknow   \n",
              "1  Uttar Pradesh  2022        4   Districts  gautam buddha nagar   \n",
              "2  Uttar Pradesh  2022        4   Districts            ghaziabad   \n",
              "3  Uttar Pradesh  2022        4   Districts             varanasi   \n",
              "4  Uttar Pradesh  2022        4   Districts         kanpur nagar   \n",
              "\n",
              "   Transaction_Count  Transaction_Amount  \n",
              "0          142292419        2.141390e+11  \n",
              "1           90864471        1.041625e+11  \n",
              "2           48195051        7.333355e+10  \n",
              "3           38410576        6.167928e+10  \n",
              "4           34663083        5.742358e+10  "
            ],
            "text/html": [
              "\n",
              "  <div id=\"df-dc5e2f54-50ec-498e-98f8-13c996cb226f\" class=\"colab-df-container\">\n",
              "    <div>\n",
              "<style scoped>\n",
              "    .dataframe tbody tr th:only-of-type {\n",
              "        vertical-align: middle;\n",
              "    }\n",
              "\n",
              "    .dataframe tbody tr th {\n",
              "        vertical-align: top;\n",
              "    }\n",
              "\n",
              "    .dataframe thead th {\n",
              "        text-align: right;\n",
              "    }\n",
              "</style>\n",
              "<table border=\"1\" class=\"dataframe\">\n",
              "  <thead>\n",
              "    <tr style=\"text-align: right;\">\n",
              "      <th></th>\n",
              "      <th>State</th>\n",
              "      <th>Year</th>\n",
              "      <th>Quarter</th>\n",
              "      <th>Entity_Type</th>\n",
              "      <th>Entity_Name</th>\n",
              "      <th>Transaction_Count</th>\n",
              "      <th>Transaction_Amount</th>\n",
              "    </tr>\n",
              "  </thead>\n",
              "  <tbody>\n",
              "    <tr>\n",
              "      <th>0</th>\n",
              "      <td>Uttar Pradesh</td>\n",
              "      <td>2022</td>\n",
              "      <td>4</td>\n",
              "      <td>Districts</td>\n",
              "      <td>lucknow</td>\n",
              "      <td>142292419</td>\n",
              "      <td>2.141390e+11</td>\n",
              "    </tr>\n",
              "    <tr>\n",
              "      <th>1</th>\n",
              "      <td>Uttar Pradesh</td>\n",
              "      <td>2022</td>\n",
              "      <td>4</td>\n",
              "      <td>Districts</td>\n",
              "      <td>gautam buddha nagar</td>\n",
              "      <td>90864471</td>\n",
              "      <td>1.041625e+11</td>\n",
              "    </tr>\n",
              "    <tr>\n",
              "      <th>2</th>\n",
              "      <td>Uttar Pradesh</td>\n",
              "      <td>2022</td>\n",
              "      <td>4</td>\n",
              "      <td>Districts</td>\n",
              "      <td>ghaziabad</td>\n",
              "      <td>48195051</td>\n",
              "      <td>7.333355e+10</td>\n",
              "    </tr>\n",
              "    <tr>\n",
              "      <th>3</th>\n",
              "      <td>Uttar Pradesh</td>\n",
              "      <td>2022</td>\n",
              "      <td>4</td>\n",
              "      <td>Districts</td>\n",
              "      <td>varanasi</td>\n",
              "      <td>38410576</td>\n",
              "      <td>6.167928e+10</td>\n",
              "    </tr>\n",
              "    <tr>\n",
              "      <th>4</th>\n",
              "      <td>Uttar Pradesh</td>\n",
              "      <td>2022</td>\n",
              "      <td>4</td>\n",
              "      <td>Districts</td>\n",
              "      <td>kanpur nagar</td>\n",
              "      <td>34663083</td>\n",
              "      <td>5.742358e+10</td>\n",
              "    </tr>\n",
              "  </tbody>\n",
              "</table>\n",
              "</div>\n",
              "    <div class=\"colab-df-buttons\">\n",
              "\n",
              "  <div class=\"colab-df-container\">\n",
              "    <button class=\"colab-df-convert\" onclick=\"convertToInteractive('df-dc5e2f54-50ec-498e-98f8-13c996cb226f')\"\n",
              "            title=\"Convert this dataframe to an interactive table.\"\n",
              "            style=\"display:none;\">\n",
              "\n",
              "  <svg xmlns=\"http://www.w3.org/2000/svg\" height=\"24px\" viewBox=\"0 -960 960 960\">\n",
              "    <path d=\"M120-120v-720h720v720H120Zm60-500h600v-160H180v160Zm220 220h160v-160H400v160Zm0 220h160v-160H400v160ZM180-400h160v-160H180v160Zm440 0h160v-160H620v160ZM180-180h160v-160H180v160Zm440 0h160v-160H620v160Z\"/>\n",
              "  </svg>\n",
              "    </button>\n",
              "\n",
              "  <style>\n",
              "    .colab-df-container {\n",
              "      display:flex;\n",
              "      gap: 12px;\n",
              "    }\n",
              "\n",
              "    .colab-df-convert {\n",
              "      background-color: #E8F0FE;\n",
              "      border: none;\n",
              "      border-radius: 50%;\n",
              "      cursor: pointer;\n",
              "      display: none;\n",
              "      fill: #1967D2;\n",
              "      height: 32px;\n",
              "      padding: 0 0 0 0;\n",
              "      width: 32px;\n",
              "    }\n",
              "\n",
              "    .colab-df-convert:hover {\n",
              "      background-color: #E2EBFA;\n",
              "      box-shadow: 0px 1px 2px rgba(60, 64, 67, 0.3), 0px 1px 3px 1px rgba(60, 64, 67, 0.15);\n",
              "      fill: #174EA6;\n",
              "    }\n",
              "\n",
              "    .colab-df-buttons div {\n",
              "      margin-bottom: 4px;\n",
              "    }\n",
              "\n",
              "    [theme=dark] .colab-df-convert {\n",
              "      background-color: #3B4455;\n",
              "      fill: #D2E3FC;\n",
              "    }\n",
              "\n",
              "    [theme=dark] .colab-df-convert:hover {\n",
              "      background-color: #434B5C;\n",
              "      box-shadow: 0px 1px 3px 1px rgba(0, 0, 0, 0.15);\n",
              "      filter: drop-shadow(0px 1px 2px rgba(0, 0, 0, 0.3));\n",
              "      fill: #FFFFFF;\n",
              "    }\n",
              "  </style>\n",
              "\n",
              "    <script>\n",
              "      const buttonEl =\n",
              "        document.querySelector('#df-dc5e2f54-50ec-498e-98f8-13c996cb226f button.colab-df-convert');\n",
              "      buttonEl.style.display =\n",
              "        google.colab.kernel.accessAllowed ? 'block' : 'none';\n",
              "\n",
              "      async function convertToInteractive(key) {\n",
              "        const element = document.querySelector('#df-dc5e2f54-50ec-498e-98f8-13c996cb226f');\n",
              "        const dataTable =\n",
              "          await google.colab.kernel.invokeFunction('convertToInteractive',\n",
              "                                                    [key], {});\n",
              "        if (!dataTable) return;\n",
              "\n",
              "        const docLinkHtml = 'Like what you see? Visit the ' +\n",
              "          '<a target=\"_blank\" href=https://colab.research.google.com/notebooks/data_table.ipynb>data table notebook</a>'\n",
              "          + ' to learn more about interactive tables.';\n",
              "        element.innerHTML = '';\n",
              "        dataTable['output_type'] = 'display_data';\n",
              "        await google.colab.output.renderOutput(dataTable, element);\n",
              "        const docLink = document.createElement('div');\n",
              "        docLink.innerHTML = docLinkHtml;\n",
              "        element.appendChild(docLink);\n",
              "      }\n",
              "    </script>\n",
              "  </div>\n",
              "\n",
              "\n",
              "    <div id=\"df-7d29eec2-1e76-42bb-be77-acb28b82244d\">\n",
              "      <button class=\"colab-df-quickchart\" onclick=\"quickchart('df-7d29eec2-1e76-42bb-be77-acb28b82244d')\"\n",
              "                title=\"Suggest charts\"\n",
              "                style=\"display:none;\">\n",
              "\n",
              "<svg xmlns=\"http://www.w3.org/2000/svg\" height=\"24px\"viewBox=\"0 0 24 24\"\n",
              "     width=\"24px\">\n",
              "    <g>\n",
              "        <path d=\"M19 3H5c-1.1 0-2 .9-2 2v14c0 1.1.9 2 2 2h14c1.1 0 2-.9 2-2V5c0-1.1-.9-2-2-2zM9 17H7v-7h2v7zm4 0h-2V7h2v10zm4 0h-2v-4h2v4z\"/>\n",
              "    </g>\n",
              "</svg>\n",
              "      </button>\n",
              "\n",
              "<style>\n",
              "  .colab-df-quickchart {\n",
              "      --bg-color: #E8F0FE;\n",
              "      --fill-color: #1967D2;\n",
              "      --hover-bg-color: #E2EBFA;\n",
              "      --hover-fill-color: #174EA6;\n",
              "      --disabled-fill-color: #AAA;\n",
              "      --disabled-bg-color: #DDD;\n",
              "  }\n",
              "\n",
              "  [theme=dark] .colab-df-quickchart {\n",
              "      --bg-color: #3B4455;\n",
              "      --fill-color: #D2E3FC;\n",
              "      --hover-bg-color: #434B5C;\n",
              "      --hover-fill-color: #FFFFFF;\n",
              "      --disabled-bg-color: #3B4455;\n",
              "      --disabled-fill-color: #666;\n",
              "  }\n",
              "\n",
              "  .colab-df-quickchart {\n",
              "    background-color: var(--bg-color);\n",
              "    border: none;\n",
              "    border-radius: 50%;\n",
              "    cursor: pointer;\n",
              "    display: none;\n",
              "    fill: var(--fill-color);\n",
              "    height: 32px;\n",
              "    padding: 0;\n",
              "    width: 32px;\n",
              "  }\n",
              "\n",
              "  .colab-df-quickchart:hover {\n",
              "    background-color: var(--hover-bg-color);\n",
              "    box-shadow: 0 1px 2px rgba(60, 64, 67, 0.3), 0 1px 3px 1px rgba(60, 64, 67, 0.15);\n",
              "    fill: var(--button-hover-fill-color);\n",
              "  }\n",
              "\n",
              "  .colab-df-quickchart-complete:disabled,\n",
              "  .colab-df-quickchart-complete:disabled:hover {\n",
              "    background-color: var(--disabled-bg-color);\n",
              "    fill: var(--disabled-fill-color);\n",
              "    box-shadow: none;\n",
              "  }\n",
              "\n",
              "  .colab-df-spinner {\n",
              "    border: 2px solid var(--fill-color);\n",
              "    border-color: transparent;\n",
              "    border-bottom-color: var(--fill-color);\n",
              "    animation:\n",
              "      spin 1s steps(1) infinite;\n",
              "  }\n",
              "\n",
              "  @keyframes spin {\n",
              "    0% {\n",
              "      border-color: transparent;\n",
              "      border-bottom-color: var(--fill-color);\n",
              "      border-left-color: var(--fill-color);\n",
              "    }\n",
              "    20% {\n",
              "      border-color: transparent;\n",
              "      border-left-color: var(--fill-color);\n",
              "      border-top-color: var(--fill-color);\n",
              "    }\n",
              "    30% {\n",
              "      border-color: transparent;\n",
              "      border-left-color: var(--fill-color);\n",
              "      border-top-color: var(--fill-color);\n",
              "      border-right-color: var(--fill-color);\n",
              "    }\n",
              "    40% {\n",
              "      border-color: transparent;\n",
              "      border-right-color: var(--fill-color);\n",
              "      border-top-color: var(--fill-color);\n",
              "    }\n",
              "    60% {\n",
              "      border-color: transparent;\n",
              "      border-right-color: var(--fill-color);\n",
              "    }\n",
              "    80% {\n",
              "      border-color: transparent;\n",
              "      border-right-color: var(--fill-color);\n",
              "      border-bottom-color: var(--fill-color);\n",
              "    }\n",
              "    90% {\n",
              "      border-color: transparent;\n",
              "      border-bottom-color: var(--fill-color);\n",
              "    }\n",
              "  }\n",
              "</style>\n",
              "\n",
              "      <script>\n",
              "        async function quickchart(key) {\n",
              "          const quickchartButtonEl =\n",
              "            document.querySelector('#' + key + ' button');\n",
              "          quickchartButtonEl.disabled = true;  // To prevent multiple clicks.\n",
              "          quickchartButtonEl.classList.add('colab-df-spinner');\n",
              "          try {\n",
              "            const charts = await google.colab.kernel.invokeFunction(\n",
              "                'suggestCharts', [key], {});\n",
              "          } catch (error) {\n",
              "            console.error('Error during call to suggestCharts:', error);\n",
              "          }\n",
              "          quickchartButtonEl.classList.remove('colab-df-spinner');\n",
              "          quickchartButtonEl.classList.add('colab-df-quickchart-complete');\n",
              "        }\n",
              "        (() => {\n",
              "          let quickchartButtonEl =\n",
              "            document.querySelector('#df-7d29eec2-1e76-42bb-be77-acb28b82244d button');\n",
              "          quickchartButtonEl.style.display =\n",
              "            google.colab.kernel.accessAllowed ? 'block' : 'none';\n",
              "        })();\n",
              "      </script>\n",
              "    </div>\n",
              "\n",
              "    </div>\n",
              "  </div>\n"
            ],
            "application/vnd.google.colaboratory.intrinsic+json": {
              "type": "dataframe",
              "variable_name": "df_top_trans",
              "summary": "{\n  \"name\": \"df_top_trans\",\n  \"rows\": 18295,\n  \"fields\": [\n    {\n      \"column\": \"State\",\n      \"properties\": {\n        \"dtype\": \"category\",\n        \"num_unique_values\": 36,\n        \"samples\": [\n          \"Gujarat\",\n          \"Andhra Pradesh\",\n          \"Tamil Nadu\"\n        ],\n        \"semantic_type\": \"\",\n        \"description\": \"\"\n      }\n    },\n    {\n      \"column\": \"Year\",\n      \"properties\": {\n        \"dtype\": \"number\",\n        \"std\": 2,\n        \"min\": 2018,\n        \"max\": 2024,\n        \"num_unique_values\": 7,\n        \"samples\": [\n          2022,\n          2020,\n          2019\n        ],\n        \"semantic_type\": \"\",\n        \"description\": \"\"\n      }\n    },\n    {\n      \"column\": \"Quarter\",\n      \"properties\": {\n        \"dtype\": \"number\",\n        \"std\": 1,\n        \"min\": 1,\n        \"max\": 4,\n        \"num_unique_values\": 4,\n        \"samples\": [\n          2,\n          1,\n          4\n        ],\n        \"semantic_type\": \"\",\n        \"description\": \"\"\n      }\n    },\n    {\n      \"column\": \"Entity_Type\",\n      \"properties\": {\n        \"dtype\": \"category\",\n        \"num_unique_values\": 2,\n        \"samples\": [\n          \"Pincodes\",\n          \"Districts\"\n        ],\n        \"semantic_type\": \"\",\n        \"description\": \"\"\n      }\n    },\n    {\n      \"column\": \"Entity_Name\",\n      \"properties\": {\n        \"dtype\": \"category\",\n        \"num_unique_values\": 1245,\n        \"samples\": [\n          \"403401\",\n          \"160008\"\n        ],\n        \"semantic_type\": \"\",\n        \"description\": \"\"\n      }\n    },\n    {\n      \"column\": \"Transaction_Count\",\n      \"properties\": {\n        \"dtype\": \"number\",\n        \"std\": 49620897,\n        \"min\": 2,\n        \"max\": 1674347983,\n        \"num_unique_values\": 18120,\n        \"samples\": [\n          8504,\n          14195129\n        ],\n        \"semantic_type\": \"\",\n        \"description\": \"\"\n      }\n    },\n    {\n      \"column\": \"Transaction_Amount\",\n      \"properties\": {\n        \"dtype\": \"number\",\n        \"std\": 62770092945.70792,\n        \"min\": 60.25276276346384,\n        \"max\": 1790144192589.0,\n        \"num_unique_values\": 18273,\n        \"samples\": [\n          2201388248.147341,\n          176999274.61440217\n        ],\n        \"semantic_type\": \"\",\n        \"description\": \"\"\n      }\n    }\n  ]\n}"
            }
          },
          "metadata": {},
          "execution_count": 41
        }
      ]
    },
    {
      "cell_type": "code",
      "source": [
        "df_top_trans.info()"
      ],
      "metadata": {
        "colab": {
          "base_uri": "https://localhost:8080/"
        },
        "id": "JMPdRan8OPUF",
        "outputId": "5aec3444-6445-4159-d055-cfa53fddd52f"
      },
      "execution_count": null,
      "outputs": [
        {
          "output_type": "stream",
          "name": "stdout",
          "text": [
            "<class 'pandas.core.frame.DataFrame'>\n",
            "RangeIndex: 18295 entries, 0 to 18294\n",
            "Data columns (total 7 columns):\n",
            " #   Column              Non-Null Count  Dtype  \n",
            "---  ------              --------------  -----  \n",
            " 0   State               18295 non-null  object \n",
            " 1   Year                18295 non-null  int64  \n",
            " 2   Quarter             18295 non-null  int64  \n",
            " 3   Entity_Type         18295 non-null  object \n",
            " 4   Entity_Name         18293 non-null  object \n",
            " 5   Transaction_Count   18295 non-null  int64  \n",
            " 6   Transaction_Amount  18295 non-null  float64\n",
            "dtypes: float64(1), int64(3), object(3)\n",
            "memory usage: 1000.6+ KB\n"
          ]
        }
      ]
    },
    {
      "cell_type": "code",
      "source": [
        "df_top_trans.isnull().sum()"
      ],
      "metadata": {
        "colab": {
          "base_uri": "https://localhost:8080/",
          "height": 303
        },
        "id": "aati65lWOVkv",
        "outputId": "9c4fbf28-b91b-476f-b50f-4868ac8f5efa"
      },
      "execution_count": null,
      "outputs": [
        {
          "output_type": "execute_result",
          "data": {
            "text/plain": [
              "State                 0\n",
              "Year                  0\n",
              "Quarter               0\n",
              "Entity_Type           0\n",
              "Entity_Name           2\n",
              "Transaction_Count     0\n",
              "Transaction_Amount    0\n",
              "dtype: int64"
            ],
            "text/html": [
              "<div>\n",
              "<style scoped>\n",
              "    .dataframe tbody tr th:only-of-type {\n",
              "        vertical-align: middle;\n",
              "    }\n",
              "\n",
              "    .dataframe tbody tr th {\n",
              "        vertical-align: top;\n",
              "    }\n",
              "\n",
              "    .dataframe thead th {\n",
              "        text-align: right;\n",
              "    }\n",
              "</style>\n",
              "<table border=\"1\" class=\"dataframe\">\n",
              "  <thead>\n",
              "    <tr style=\"text-align: right;\">\n",
              "      <th></th>\n",
              "      <th>0</th>\n",
              "    </tr>\n",
              "  </thead>\n",
              "  <tbody>\n",
              "    <tr>\n",
              "      <th>State</th>\n",
              "      <td>0</td>\n",
              "    </tr>\n",
              "    <tr>\n",
              "      <th>Year</th>\n",
              "      <td>0</td>\n",
              "    </tr>\n",
              "    <tr>\n",
              "      <th>Quarter</th>\n",
              "      <td>0</td>\n",
              "    </tr>\n",
              "    <tr>\n",
              "      <th>Entity_Type</th>\n",
              "      <td>0</td>\n",
              "    </tr>\n",
              "    <tr>\n",
              "      <th>Entity_Name</th>\n",
              "      <td>2</td>\n",
              "    </tr>\n",
              "    <tr>\n",
              "      <th>Transaction_Count</th>\n",
              "      <td>0</td>\n",
              "    </tr>\n",
              "    <tr>\n",
              "      <th>Transaction_Amount</th>\n",
              "      <td>0</td>\n",
              "    </tr>\n",
              "  </tbody>\n",
              "</table>\n",
              "</div><br><label><b>dtype:</b> int64</label>"
            ]
          },
          "metadata": {},
          "execution_count": 43
        }
      ]
    },
    {
      "cell_type": "markdown",
      "source": [
        "#Data Cleaning\n"
      ],
      "metadata": {
        "id": "bEpY4btJOZF5"
      }
    },
    {
      "cell_type": "markdown",
      "source": [
        "**Aggregated Transactions **"
      ],
      "metadata": {
        "id": "h7SqnW8fO3XI"
      }
    },
    {
      "cell_type": "code",
      "source": [
        "# 1. Handle Missing Values\n",
        "# For numerical columns, fill NaNs with 0 or mean/median if appropriate\n",
        "df_agg_trans['Transaction_Count'] = df_agg_trans['Transaction_Count'].fillna(0)\n",
        "df_agg_trans['Transaction_Amount'] = df_agg_trans['Transaction_Amount'].fillna(0.0)\n",
        "# For categorical columns, fill with 'Unknown' or mode\n",
        "df_agg_trans['Transaction_Type'] = df_agg_trans['Transaction_Type'].fillna('Unknown')"
      ],
      "metadata": {
        "id": "AyIpRPkUPvQi"
      },
      "execution_count": null,
      "outputs": []
    },
    {
      "cell_type": "code",
      "source": [
        "# 2. Correct Data Types\n",
        "# Ensure numerical columns are of numeric type\n",
        "df_agg_trans['Transaction_Count'] = pd.to_numeric(df_agg_trans['Transaction_Count'], errors='coerce').astype(int)\n",
        "df_agg_trans['Transaction_Amount'] = pd.to_numeric(df_agg_trans['Transaction_Amount'], errors='coerce')\n",
        "df_agg_trans['Year'] = pd.to_numeric(df_agg_trans['Year'], errors='coerce').astype(int)\n",
        "df_agg_trans['Quarter'] = pd.to_numeric(df_agg_trans['Quarter'], errors='coerce').astype(int)"
      ],
      "metadata": {
        "id": "3fdpcIJ2PWhW"
      },
      "execution_count": null,
      "outputs": []
    },
    {
      "cell_type": "code",
      "source": [
        "# 3. Handle Duplicates\n",
        "print(f\"Aggregated Transactions: Duplicates before dropping: {df_agg_trans.duplicated().sum()}\")\n",
        "df_agg_trans.drop_duplicates(inplace=True)\n",
        "print(f\"Aggregated Transactions: Duplicates after dropping: {df_agg_trans.duplicated().sum()}\")"
      ],
      "metadata": {
        "colab": {
          "base_uri": "https://localhost:8080/"
        },
        "id": "aWBL0ZvXPbrH",
        "outputId": "c5380168-fbe8-44df-e30d-9df0e9b77646"
      },
      "execution_count": null,
      "outputs": [
        {
          "output_type": "stream",
          "name": "stdout",
          "text": [
            "Aggregated Transactions: Duplicates before dropping: 0\n",
            "Aggregated Transactions: Duplicates after dropping: 0\n"
          ]
        }
      ]
    },
    {
      "cell_type": "code",
      "source": [
        "# 4. Standardize Text Data (State and Transaction_Type)\n",
        "# Already handled basic standardization during data loading (title case, replace hyphens)\n",
        "df_agg_trans['State'] = df_agg_trans['State'].apply(lambda x: re.sub(r'([A-Z])', r' \\1', x).strip() if isinstance(x, str) else x) # Add space before capital letters\n",
        "df_agg_trans['State'] = df_agg_trans['State'].str.replace('Andaman & Nicobar Islands', 'Andaman and Nicobar Islands')\n",
        "df_agg_trans['State'] = df_agg_trans['State'].str.replace('Dadra & Nagar Haveli & Daman & Diu', 'Dadra and Nagar Haveli and Daman and Diu')\n",
        "df_agg_trans['State'] = df_agg_trans['State'].str.replace('Jammu & Kashmir', 'Jammu and Kashmir')\n",
        "df_agg_trans['State'] = df_agg_trans['State'].str.replace('Uttar Pradesh', 'Uttar Pradesh') # No change needed, just example\n",
        "df_agg_trans['State'] = df_agg_trans['State'].str.replace('Arunachal Pradesh', 'Arunachal Pradesh') # No change needed, just example\n",
        "\n",
        "df_agg_trans['Transaction_Type'] = df_agg_trans['Transaction_Type'].str.strip().str.title()\n",
        "print(\"Aggregated Transactions cleaned.\")\n",
        "print(df_agg_trans.info())\n",
        "print(df_agg_trans.isnull().sum())"
      ],
      "metadata": {
        "colab": {
          "base_uri": "https://localhost:8080/"
        },
        "id": "_SnQuGotPkxR",
        "outputId": "aa52b37a-d217-44c5-ab76-7cc124fe5cc6"
      },
      "execution_count": null,
      "outputs": [
        {
          "output_type": "stream",
          "name": "stdout",
          "text": [
            "Aggregated Transactions cleaned.\n",
            "<class 'pandas.core.frame.DataFrame'>\n",
            "RangeIndex: 5034 entries, 0 to 5033\n",
            "Data columns (total 6 columns):\n",
            " #   Column              Non-Null Count  Dtype  \n",
            "---  ------              --------------  -----  \n",
            " 0   State               5034 non-null   object \n",
            " 1   Year                5034 non-null   int64  \n",
            " 2   Quarter             5034 non-null   int64  \n",
            " 3   Transaction_Type    5034 non-null   object \n",
            " 4   Transaction_Count   5034 non-null   int64  \n",
            " 5   Transaction_Amount  5034 non-null   float64\n",
            "dtypes: float64(1), int64(3), object(2)\n",
            "memory usage: 236.1+ KB\n",
            "None\n",
            "State                 0\n",
            "Year                  0\n",
            "Quarter               0\n",
            "Transaction_Type      0\n",
            "Transaction_Count     0\n",
            "Transaction_Amount    0\n",
            "dtype: int64\n"
          ]
        }
      ]
    },
    {
      "cell_type": "markdown",
      "source": [
        "**Cleaning Aggregated Users**"
      ],
      "metadata": {
        "id": "jHjnFoTTP44d"
      }
    },
    {
      "cell_type": "code",
      "source": [
        "# 1. Handle Missing Values\n",
        "# Fill numerical NaNs with 0\n",
        "if 'Registered_Users' in df_agg_user.columns:\n",
        "    df_agg_user['Registered_Users'] = df_agg_user['Registered_Users'].fillna(0)\n",
        "if 'App_Opens' in df_agg_user.columns:\n",
        "    df_agg_user['App_Opens'] = df_agg_user['App_Opens'].fillna(0)\n",
        "if 'Count' in df_agg_user.columns:\n",
        "    df_agg_user['Count'] = df_agg_user['Count'].fillna(0)\n",
        "if 'Percentage' in df_agg_user.columns:\n",
        "    df_agg_user['Percentage'] = df_agg_user['Percentage'].fillna(0.0)\n",
        "# Fill categorical NaNs with 'Unknown'\n",
        "if 'Brand' in df_agg_user.columns:\n",
        "    df_agg_user['Brand'] = df_agg_user['Brand'].fillna('Unknown')"
      ],
      "metadata": {
        "id": "FuQgRRb5P6ZX"
      },
      "execution_count": null,
      "outputs": []
    },
    {
      "cell_type": "code",
      "source": [
        "# 2. Correct Data Types\n",
        "if 'Registered_Users' in df_agg_user.columns:\n",
        "    df_agg_user['Registered_Users'] = pd.to_numeric(df_agg_user['Registered_Users'], errors='coerce').fillna(0).astype(int)\n",
        "if 'App_Opens' in df_agg_user.columns:\n",
        "    df_agg_user['App_Opens'] = pd.to_numeric(df_agg_user['App_Opens'], errors='coerce').fillna(0).astype(int)\n",
        "if 'Count' in df_agg_user.columns:\n",
        "    df_agg_user['Count'] = pd.to_numeric(df_agg_user['Count'], errors='coerce').fillna(0).astype(int)\n",
        "if 'Percentage' in df_agg_user.columns:\n",
        "    df_agg_user['Percentage'] = pd.to_numeric(df_agg_user['Percentage'], errors='coerce').fillna(0.0)\n",
        "\n",
        "df_agg_user['Year'] = pd.to_numeric(df_agg_user['Year'], errors='coerce').fillna(0).astype(int)\n",
        "df_agg_user['Quarter'] = pd.to_numeric(df_agg_user['Quarter'], errors='coerce').fillna(0).astype(int)"
      ],
      "metadata": {
        "id": "1gkgLRXsQLiV"
      },
      "execution_count": null,
      "outputs": []
    },
    {
      "cell_type": "code",
      "source": [
        "# 3. Handle Duplicates\n",
        "print(f\"Aggregated Users: Duplicates before dropping: {df_agg_user.duplicated().sum()}\")\n",
        "df_agg_user.drop_duplicates(inplace=True)\n",
        "print(f\"Aggregated Users: Duplicates after dropping: {df_agg_user.duplicated().sum()}\")"
      ],
      "metadata": {
        "colab": {
          "base_uri": "https://localhost:8080/"
        },
        "id": "O0L2f1aWQUZm",
        "outputId": "4271f813-6d0a-4722-f3d7-49d83e46657f"
      },
      "execution_count": null,
      "outputs": [
        {
          "output_type": "stream",
          "name": "stdout",
          "text": [
            "Aggregated Users: Duplicates before dropping: 0\n",
            "Aggregated Users: Duplicates after dropping: 0\n"
          ]
        }
      ]
    },
    {
      "cell_type": "code",
      "source": [
        "# 4. Standardize Text Data\n",
        "if 'State' in df_agg_user.columns:\n",
        "    df_agg_user['State'] = df_agg_user['State'].apply(lambda x: re.sub(r'([A-Z])', r' \\1', x).strip() if isinstance(x, str) else x)\n",
        "    df_agg_user['State'] = df_agg_user['State'].str.replace('Andaman & Nicobar Islands', 'Andaman and Nicobar Islands')\n",
        "    df_agg_user['State'] = df_agg_user['State'].str.replace('Dadra & Nagar Haveli & Daman & Diu', 'Dadra and Nagar Haveli and Daman and Diu')\n",
        "    df_agg_user['State'] = df_agg_user['State'].str.replace('Jammu & Kashmir', 'Jammu and Kashmir')\n",
        "if 'Brand' in df_agg_user.columns:\n",
        "    df_agg_user['Brand'] = df_agg_user['Brand'].str.strip().str.title()\n",
        "print(\"Aggregated Users cleaned.\")\n",
        "print(df_agg_user.info())\n",
        "print(df_agg_user.isnull().sum())"
      ],
      "metadata": {
        "colab": {
          "base_uri": "https://localhost:8080/"
        },
        "id": "uxxk8z-eQYWy",
        "outputId": "d78b728f-14d3-4f4d-d710-9e3a90103e82"
      },
      "execution_count": null,
      "outputs": [
        {
          "output_type": "stream",
          "name": "stdout",
          "text": [
            "Aggregated Users cleaned.\n",
            "<class 'pandas.core.frame.DataFrame'>\n",
            "RangeIndex: 1008 entries, 0 to 1007\n",
            "Data columns (total 8 columns):\n",
            " #   Column            Non-Null Count  Dtype  \n",
            "---  ------            --------------  -----  \n",
            " 0   State             1008 non-null   object \n",
            " 1   Year              1008 non-null   int64  \n",
            " 2   Quarter           1008 non-null   int64  \n",
            " 3   Registered_Users  1008 non-null   int64  \n",
            " 4   App_Opens         1008 non-null   int64  \n",
            " 5   Brand             1008 non-null   object \n",
            " 6   Count             1008 non-null   int64  \n",
            " 7   Percentage        1008 non-null   float64\n",
            "dtypes: float64(1), int64(5), object(2)\n",
            "memory usage: 63.1+ KB\n",
            "None\n",
            "State               0\n",
            "Year                0\n",
            "Quarter             0\n",
            "Registered_Users    0\n",
            "App_Opens           0\n",
            "Brand               0\n",
            "Count               0\n",
            "Percentage          0\n",
            "dtype: int64\n"
          ]
        }
      ]
    },
    {
      "cell_type": "markdown",
      "source": [
        "**Cleaning Map Transactions**"
      ],
      "metadata": {
        "id": "Oj9Al6YhQe5m"
      }
    },
    {
      "cell_type": "code",
      "source": [
        "if 'Transaction_Count' in df_map_trans.columns:\n",
        "    df_map_trans['Transaction_Count'] = df_map_trans['Transaction_Count'].fillna(0)\n",
        "if 'Transaction_Amount' in df_map_trans.columns:\n",
        "    df_map_trans['Transaction_Amount'] = df_map_trans['Transaction_Amount'].fillna(0.0)"
      ],
      "metadata": {
        "id": "Yb7DRxDtQf62"
      },
      "execution_count": null,
      "outputs": []
    },
    {
      "cell_type": "code",
      "source": [
        "# 2. Correct Data Types\n",
        "# Check if columns exist before accessing them\n",
        "if 'Transaction_Count' in df_map_trans.columns:\n",
        "    df_map_trans['Transaction_Count'] = pd.to_numeric(df_map_trans['Transaction_Count'], errors='coerce').fillna(0).astype(int)\n",
        "if 'Transaction_Amount' in df_map_trans.columns:\n",
        "    df_map_trans['Transaction_Amount'] = pd.to_numeric(df_map_trans['Transaction_Amount'], errors='coerce').fillna(0.0)\n",
        "if 'Year' in df_map_trans.columns:\n",
        "    df_map_trans['Year'] = pd.to_numeric(df_map_trans['Year'], errors='coerce').fillna(0).astype(int)\n",
        "if 'Quarter' in df_map_trans.columns:\n",
        "    df_map_trans['Quarter'] = pd.to_numeric(df_map_trans['Quarter'], errors='coerce').fillna(0).astype(int)"
      ],
      "metadata": {
        "id": "L9I_BeOsQnuB"
      },
      "execution_count": null,
      "outputs": []
    },
    {
      "cell_type": "code",
      "source": [
        "# 3. Handle Duplicates\n",
        "df_map_trans.duplicated().sum()\n",
        "df_map_trans.drop_duplicates(inplace=True)\n",
        "df_map_trans.duplicated().sum()"
      ],
      "metadata": {
        "colab": {
          "base_uri": "https://localhost:8080/"
        },
        "id": "VD7mBcJmQrmA",
        "outputId": "8f4f9c88-8631-4a1a-e721-831ae2d33764"
      },
      "execution_count": null,
      "outputs": [
        {
          "output_type": "execute_result",
          "data": {
            "text/plain": [
              "np.int64(0)"
            ]
          },
          "metadata": {},
          "execution_count": 58
        }
      ]
    },
    {
      "cell_type": "code",
      "source": [
        "# 4. Standardize Text Data\n",
        "if 'State' in df_map_trans.columns:\n",
        "    df_map_trans['State'] = df_map_trans['State'].apply(lambda x: re.sub(r'([A-Z])', r' \\1', x).strip() if isinstance(x, str) else x)\n",
        "    df_map_trans['State'] = df_map_trans['State'].str.replace('Andaman & Nicobar Islands', 'Andaman and Nicobar Islands')\n",
        "    df_map_trans['State'] = df_map_trans['State'].str.replace('Dadra & Nagar Haveli & Daman & Diu', 'Dadra and Nagar Haveli and Daman and Diu')\n",
        "    df_map_trans['State'] = df_map_trans['State'].str.replace('Jammu & Kashmir', 'Jammu and Kashmir')\n",
        "if 'District' in df_map_trans.columns:\n",
        "    df_map_trans['District'] = df_map_trans['District'].str.strip().str.title()\n",
        "df_map_trans.info()\n",
        "df_map_trans.isnull().sum()"
      ],
      "metadata": {
        "colab": {
          "base_uri": "https://localhost:8080/",
          "height": 136
        },
        "id": "yiqdnpg5Qu_8",
        "outputId": "92890696-3a72-4925-d062-4a220331a3a5"
      },
      "execution_count": null,
      "outputs": [
        {
          "output_type": "stream",
          "name": "stdout",
          "text": [
            "<class 'pandas.core.frame.DataFrame'>\n",
            "RangeIndex: 0 entries\n",
            "Empty DataFrame\n"
          ]
        },
        {
          "output_type": "execute_result",
          "data": {
            "text/plain": [
              "Series([], dtype: float64)"
            ],
            "text/html": [
              "<div>\n",
              "<style scoped>\n",
              "    .dataframe tbody tr th:only-of-type {\n",
              "        vertical-align: middle;\n",
              "    }\n",
              "\n",
              "    .dataframe tbody tr th {\n",
              "        vertical-align: top;\n",
              "    }\n",
              "\n",
              "    .dataframe thead th {\n",
              "        text-align: right;\n",
              "    }\n",
              "</style>\n",
              "<table border=\"1\" class=\"dataframe\">\n",
              "  <thead>\n",
              "    <tr style=\"text-align: right;\">\n",
              "      <th></th>\n",
              "      <th>0</th>\n",
              "    </tr>\n",
              "  </thead>\n",
              "  <tbody>\n",
              "  </tbody>\n",
              "</table>\n",
              "</div><br><label><b>dtype:</b> float64</label>"
            ]
          },
          "metadata": {},
          "execution_count": 60
        }
      ]
    },
    {
      "cell_type": "markdown",
      "source": [
        "**Cleaning Top Transactions**"
      ],
      "metadata": {
        "id": "WHSaE9z1Q0B6"
      }
    },
    {
      "cell_type": "code",
      "source": [
        "if 'Transaction_Count' in df_top_trans.columns:\n",
        "    df_top_trans['Transaction_Count'] = df_top_trans['Transaction_Count'].fillna(0)\n",
        "if 'Transaction_Amount' in df_top_trans.columns:\n",
        "    df_top_trans['Transaction_Amount'] = df_top_trans['Transaction_Amount'].fillna(0.0)"
      ],
      "metadata": {
        "id": "GStAbhM3QzS3"
      },
      "execution_count": null,
      "outputs": []
    },
    {
      "cell_type": "code",
      "source": [
        "# 2. Correct Data Types\n",
        "if 'Transaction_Count' in df_top_trans.columns:\n",
        "    df_top_trans['Transaction_Count'] = pd.to_numeric(df_top_trans['Transaction_Count'], errors='coerce').fillna(0).astype(int)\n",
        "if 'Transaction_Amount' in df_top_trans.columns:\n",
        "    df_top_trans['Transaction_Amount'] = pd.to_numeric(df_top_trans['Transaction_Amount'], errors='coerce').fillna(0.0)\n",
        "\n",
        "df_top_trans['Year'] = pd.to_numeric(df_top_trans['Year'], errors='coerce').fillna(0).astype(int)\n",
        "df_top_trans['Quarter'] = pd.to_numeric(df_top_trans['Quarter'], errors='coerce').fillna(0).astype(int)"
      ],
      "metadata": {
        "id": "7qAuUcyOQ78g"
      },
      "execution_count": null,
      "outputs": []
    },
    {
      "cell_type": "code",
      "source": [
        "# 3. Handle Duplicates\n",
        "df_top_trans.duplicated().sum()\n",
        "df_top_trans.drop_duplicates(inplace=True)\n",
        "df_top_trans.duplicated().sum()"
      ],
      "metadata": {
        "colab": {
          "base_uri": "https://localhost:8080/"
        },
        "id": "1FDwx0pHQ_YC",
        "outputId": "993b6e54-7297-4ef6-9c41-8b1ea4452d72"
      },
      "execution_count": null,
      "outputs": [
        {
          "output_type": "execute_result",
          "data": {
            "text/plain": [
              "np.int64(0)"
            ]
          },
          "metadata": {},
          "execution_count": 63
        }
      ]
    },
    {
      "cell_type": "code",
      "source": [
        "# 4. Standardize Text Data\n",
        "if 'State' in df_top_trans.columns:\n",
        "    df_top_trans['State'] = df_top_trans['State'].apply(lambda x: re.sub(r'([A-Z])', r' \\1', x).strip() if isinstance(x, str) else x)\n",
        "    df_top_trans['State'] = df_top_trans['State'].str.replace('Andaman & Nicobar Islands', 'Andaman and Nicobar Islands')\n",
        "    df_top_trans['State'] = df_top_trans['State'].str.replace('Dadra & Nagar Haveli & Daman & Diu', 'Dadra and Nagar Haveli and Daman and Diu')\n",
        "    df_top_trans['State'] = df_top_trans['State'].str.replace('Jammu & Kashmir', 'Jammu and Kashmir')\n",
        "if 'Entity_Name' in df_top_trans.columns:\n",
        "    df_top_trans['Entity_Name'] = df_top_trans['Entity_Name'].str.strip().str.title()\n",
        "df_top_trans.info()\n",
        "df_top_trans.isnull().sum()"
      ],
      "metadata": {
        "colab": {
          "base_uri": "https://localhost:8080/",
          "height": 546
        },
        "id": "BCC2ioORREq7",
        "outputId": "b1f36b82-bc94-4f0e-cff9-792cc70fdb14"
      },
      "execution_count": null,
      "outputs": [
        {
          "output_type": "stream",
          "name": "stdout",
          "text": [
            "<class 'pandas.core.frame.DataFrame'>\n",
            "RangeIndex: 18295 entries, 0 to 18294\n",
            "Data columns (total 7 columns):\n",
            " #   Column              Non-Null Count  Dtype  \n",
            "---  ------              --------------  -----  \n",
            " 0   State               18295 non-null  object \n",
            " 1   Year                18295 non-null  int64  \n",
            " 2   Quarter             18295 non-null  int64  \n",
            " 3   Entity_Type         18295 non-null  object \n",
            " 4   Entity_Name         18293 non-null  object \n",
            " 5   Transaction_Count   18295 non-null  int64  \n",
            " 6   Transaction_Amount  18295 non-null  float64\n",
            "dtypes: float64(1), int64(3), object(3)\n",
            "memory usage: 1000.6+ KB\n"
          ]
        },
        {
          "output_type": "execute_result",
          "data": {
            "text/plain": [
              "State                 0\n",
              "Year                  0\n",
              "Quarter               0\n",
              "Entity_Type           0\n",
              "Entity_Name           2\n",
              "Transaction_Count     0\n",
              "Transaction_Amount    0\n",
              "dtype: int64"
            ],
            "text/html": [
              "<div>\n",
              "<style scoped>\n",
              "    .dataframe tbody tr th:only-of-type {\n",
              "        vertical-align: middle;\n",
              "    }\n",
              "\n",
              "    .dataframe tbody tr th {\n",
              "        vertical-align: top;\n",
              "    }\n",
              "\n",
              "    .dataframe thead th {\n",
              "        text-align: right;\n",
              "    }\n",
              "</style>\n",
              "<table border=\"1\" class=\"dataframe\">\n",
              "  <thead>\n",
              "    <tr style=\"text-align: right;\">\n",
              "      <th></th>\n",
              "      <th>0</th>\n",
              "    </tr>\n",
              "  </thead>\n",
              "  <tbody>\n",
              "    <tr>\n",
              "      <th>State</th>\n",
              "      <td>0</td>\n",
              "    </tr>\n",
              "    <tr>\n",
              "      <th>Year</th>\n",
              "      <td>0</td>\n",
              "    </tr>\n",
              "    <tr>\n",
              "      <th>Quarter</th>\n",
              "      <td>0</td>\n",
              "    </tr>\n",
              "    <tr>\n",
              "      <th>Entity_Type</th>\n",
              "      <td>0</td>\n",
              "    </tr>\n",
              "    <tr>\n",
              "      <th>Entity_Name</th>\n",
              "      <td>2</td>\n",
              "    </tr>\n",
              "    <tr>\n",
              "      <th>Transaction_Count</th>\n",
              "      <td>0</td>\n",
              "    </tr>\n",
              "    <tr>\n",
              "      <th>Transaction_Amount</th>\n",
              "      <td>0</td>\n",
              "    </tr>\n",
              "  </tbody>\n",
              "</table>\n",
              "</div><br><label><b>dtype:</b> int64</label>"
            ]
          },
          "metadata": {},
          "execution_count": 64
        }
      ]
    },
    {
      "cell_type": "markdown",
      "source": [
        "# Data Visualization\n"
      ],
      "metadata": {
        "id": "p1hrMrdmRYVc"
      }
    },
    {
      "cell_type": "markdown",
      "source": [
        "** Aggregated Transactions Visualizations**"
      ],
      "metadata": {
        "id": "FMn_XXK9Repd"
      }
    },
    {
      "cell_type": "code",
      "source": [
        "# Total Transaction Amount Over Years and Quarters\n",
        "plt.figure(figsize=(12, 7))\n",
        "agg_trans_time = df_agg_trans.groupby(['Year', 'Quarter'])['Transaction_Amount'].sum().reset_index()\n",
        "sns.lineplot(data=agg_trans_time, x='Year', y='Transaction_Amount', hue='Quarter', marker='o', palette='viridis')\n",
        "plt.title('Total Transaction Amount Over Years and Quarters', fontsize=16)\n",
        "plt.xlabel('Year', fontsize=12)\n",
        "plt.ylabel('Total Transaction Amount (₹)', fontsize=12)\n",
        "plt.xticks(agg_trans_time['Year'].unique(), fontsize=10)\n",
        "plt.yticks(fontsize=10)\n",
        "plt.grid(True, linestyle='--', alpha=0.7)\n",
        "plt.legend(title='Quarter', bbox_to_anchor=(1.05, 1), loc='upper left')\n",
        "plt.tight_layout()\n",
        "plt.show()"
      ],
      "metadata": {
        "colab": {
          "base_uri": "https://localhost:8080/",
          "height": 707
        },
        "id": "TJFA9T7iRZ5q",
        "outputId": "5a74ddf5-0d64-49f1-afab-80e22d81381f"
      },
      "execution_count": null,
      "outputs": [
        {
          "output_type": "display_data",
          "data": {
            "text/plain": [
              "<Figure size 1200x700 with 1 Axes>"
            ],
            "image/png": "[encoded data removed]"
          },
          "metadata": {}
        }
      ]
    },
    {
      "cell_type": "code",
      "source": [
        "# Total Transaction Count Over Years and Quarters\n",
        "plt.figure(figsize=(12, 7))\n",
        "agg_trans_count_time = df_agg_trans.groupby(['Year', 'Quarter'])['Transaction_Count'].sum().reset_index()\n",
        "sns.barplot(data=agg_trans_count_time, x='Year', y='Transaction_Count', hue='Quarter', palette='magma')\n",
        "plt.title('Total Transaction Count Over Years and Quarters', fontsize=16)\n",
        "plt.xlabel('Year', fontsize=12)\n",
        "plt.ylabel('Total Transaction Count', fontsize=12)\n",
        "plt.xticks(agg_trans_count_time['Year'].unique(), fontsize=10)\n",
        "plt.yticks(fontsize=10)\n",
        "plt.grid(axis='y', linestyle='--', alpha=0.7)\n",
        "plt.legend(title='Quarter', bbox_to_anchor=(1.05, 1), loc='upper left')\n",
        "plt.tight_layout()\n",
        "plt.show()"
      ],
      "metadata": {
        "colab": {
          "base_uri": "https://localhost:8080/",
          "height": 707
        },
        "id": "oIU0MlKiSAAC",
        "outputId": "1d98f49d-ec66-49c5-95e2-bf94c78da6f3"
      },
      "execution_count": null,
      "outputs": [
        {
          "output_type": "display_data",
          "data": {
            "text/plain": [
              "<Figure size 1200x700 with 1 Axes>"
            ],
            "image/png": "[encoded data removed]"
          },
          "metadata": {}
        }
      ]
    },
    {
      "cell_type": "code",
      "source": [
        "# Top 10 Transaction Types by Amount\n",
        "plt.figure(figsize=(12, 7))\n",
        "top_transaction_types_amount = df_agg_trans.groupby('Transaction_Type')['Transaction_Amount'].sum().sort_values(ascending=False).head(10)\n",
        "sns.barplot(x=top_transaction_types_amount.index, y=top_transaction_types_amount.values, palette='crest')\n",
        "plt.title('Top 10 Transaction Types by Total Amount', fontsize=16)\n",
        "plt.xlabel('Transaction Type', fontsize=12)\n",
        "plt.ylabel('Total Transaction Amount (₹)', fontsize=12)\n",
        "plt.xticks(rotation=45, ha='right', fontsize=10)\n",
        "plt.yticks(fontsize=10)\n",
        "plt.tight_layout()\n",
        "plt.show()"
      ],
      "metadata": {
        "colab": {
          "base_uri": "https://localhost:8080/",
          "height": 707
        },
        "id": "8gIwo8NVSKIG",
        "outputId": "06de1d08-7d92-4adc-b017-452cf4dfdf35"
      },
      "execution_count": null,
      "outputs": [
        {
          "output_type": "display_data",
          "data": {
            "text/plain": [
              "<Figure size 1200x700 with 1 Axes>"
            ],
            "image/png": "[encoded data removed]"
          },
          "metadata": {}
        }
      ]
    },
    {
      "cell_type": "code",
      "source": [
        "# Top 10 States by Total Transaction Amount\n",
        "plt.figure(figsize=(12, 7))\n",
        "top_states_amount = df_agg_trans.groupby('State')['Transaction_Amount'].sum().sort_values(ascending=False).head(10)\n",
        "sns.barplot(x=top_states_amount.index, y=top_states_amount.values, palette='rocket')\n",
        "plt.title('Top 10 States by Total Transaction Amount', fontsize=16)\n",
        "plt.xlabel('State', fontsize=12)\n",
        "plt.ylabel('Total Transaction Amount (₹)', fontsize=12)\n",
        "plt.xticks(rotation=45, ha='right', fontsize=10)\n",
        "plt.yticks(fontsize=10)\n",
        "plt.tight_layout()\n",
        "plt.show()"
      ],
      "metadata": {
        "colab": {
          "base_uri": "https://localhost:8080/",
          "height": 707
        },
        "id": "S0jchUTHSdQY",
        "outputId": "17127512-e515-46cc-e004-161c58d89bc9"
      },
      "execution_count": null,
      "outputs": [
        {
          "output_type": "display_data",
          "data": {
            "text/plain": [
              "<Figure size 1200x700 with 1 Axes>"
            ],
            "image/png": "[encoded data removed]"
          },
          "metadata": {}
        }
      ]
    },
    {
      "cell_type": "markdown",
      "source": [
        "**Aggregated Users Visualizations**"
      ],
      "metadata": {
        "id": "G8W38nNLSjEt"
      }
    },
    {
      "cell_type": "code",
      "source": [
        "# Total Registered Users Over Years and Quarters\n",
        "plt.figure(figsize=(12, 7))\n",
        "# Ensure 'Registered_Users' column exists before plotting\n",
        "if 'Registered_Users' in df_agg_user.columns:\n",
        "    agg_user_time = df_agg_user.groupby(['Year', 'Quarter'])['Registered_Users'].sum().reset_index()\n",
        "    sns.lineplot(data=agg_user_time, x='Year', y='Registered_Users', hue='Quarter', marker='o', palette='cividis')\n",
        "    plt.title('Total Registered Users Over Years and Quarters', fontsize=16)\n",
        "    plt.xlabel('Year', fontsize=12)\n",
        "    plt.ylabel('Total Registered Users', fontsize=12)\n",
        "    plt.xticks(agg_user_time['Year'].unique(), fontsize=10)\n",
        "    plt.yticks(fontsize=10)\n",
        "    plt.grid(True, linestyle='--', alpha=0.7)\n",
        "    plt.legend(title='Quarter', bbox_to_anchor=(1.05, 1), loc='upper left')\n",
        "    plt.tight_layout()\n",
        "    plt.show()\n",
        "else:\n",
        "    print(\"Skipping Registered Users plot: 'Registered_Users' column not found in df_agg_user.\")\n"
      ],
      "metadata": {
        "colab": {
          "base_uri": "https://localhost:8080/",
          "height": 707
        },
        "id": "U_LhPfXRSo4M",
        "outputId": "b2e5b31b-b157-4c33-f9ef-c8b174aee347"
      },
      "execution_count": null,
      "outputs": [
        {
          "output_type": "display_data",
          "data": {
            "text/plain": [
              "<Figure size 1200x700 with 1 Axes>"
            ],
            "image/png": "[encoded data removed]"
          },
          "metadata": {}
        }
      ]
    },
    {
      "cell_type": "code",
      "source": [
        "# Top 10 Brands by User Count\n",
        "plt.figure(figsize=(12, 7))\n",
        "# Ensure 'Brand' and 'Count' columns exist before plotting\n",
        "if 'Brand' in df_agg_user.columns and 'Count' in df_agg_user.columns:\n",
        "    top_brands = df_agg_user.groupby('Brand')['Count'].sum().sort_values(ascending=False).head(10)\n",
        "    sns.barplot(x=top_brands.index, y=top_brands.values, palette='mako')\n",
        "    plt.title('Top 10 Mobile Brands by User Count', fontsize=16)\n",
        "    plt.xlabel('Brand', fontsize=12)\n",
        "    plt.ylabel('Total User Count', fontsize=12)\n",
        "    plt.xticks(rotation=45, ha='right', fontsize=10)\n",
        "    plt.yticks(fontsize=10)\n",
        "    plt.tight_layout()\n",
        "    plt.show()\n",
        "else:\n",
        "    print(\"Skipping Top Brands plot: 'Brand' or 'Count' column not found in df_agg_user.\")\n"
      ],
      "metadata": {
        "colab": {
          "base_uri": "https://localhost:8080/",
          "height": 707
        },
        "id": "qabtPSkmS3C-",
        "outputId": "6fd7f116-f8a8-48cb-bcda-f0b426891772"
      },
      "execution_count": null,
      "outputs": [
        {
          "output_type": "display_data",
          "data": {
            "text/plain": [
              "<Figure size 1200x700 with 1 Axes>"
            ],
            "image/png": "[encoded data removed]"
          },
          "metadata": {}
        }
      ]
    },
    {
      "cell_type": "markdown",
      "source": [
        "** Geo Visualization with Plotly (Aggregated Transactions by State)**"
      ],
      "metadata": {
        "id": "I2JUU2PiTE-m"
      }
    },
    {
      "cell_type": "code",
      "source": [
        "# Aggregate data for plotting on map (e.g., total transaction amount per state)\n",
        "# We use the cleaned df_agg_trans\n",
        "state_wise_total_amount = df_agg_trans.groupby('State')['Transaction_Amount'].sum().reset_index()\n",
        "state_wise_total_amount.rename(columns={'Transaction_Amount': 'Total_Amount'}, inplace=True)"
      ],
      "metadata": {
        "id": "mdI5QMWWTGPn"
      },
      "execution_count": null,
      "outputs": []
    },
    {
      "cell_type": "code",
      "source": [
        "# --- Load Indian States GeoJSON ---\n",
        "# This GeoJSON file provides the geographical boundaries for Indian states.\n",
        "# It's crucial for Plotly to correctly render the choropleth map.\n",
        "# Source: https://raw.githubusercontent.com/SubhrajyotiSen/Indian_States_Geojson/master/india_state_geo.json\n",
        "geojson_url = \"https://raw.githubusercontent.com/SubhrajyotiSen/Indian_States_Geojson/master/india_state_geo.json\""
      ],
      "metadata": {
        "id": "yYEUmxmtTOmo"
      },
      "execution_count": null,
      "outputs": []
    },
    {
      "cell_type": "code",
      "source": [
        "state_name_mapping = {\n",
        "    'Andaman And Nicobar Islands': 'Andaman & Nicobar Island',\n",
        "    'Arunachal Pradesh': 'Arunanchal Pradesh',\n",
        "    'Dadra And Nagar Haveli And Daman And Diu': 'Dadra & Nagar Haveli & Daman & Diu', # As per some older GeoJSONs\n",
        "    'Jammu And Kashmir': 'Jammu & Kashmir',\n",
        "    'Odisha': 'Orissa', # Older name\n",
        "    'Puducherry': 'Pondicherry', # Older name\n",
        "    'Telangana': 'Telangana',\n",
        "    'Uttar Pradesh': 'Uttar Pradesh',\n",
        "    'Uttarakhand': 'Uttarakhand',\n",
        "    'West Bengal': 'West Bengal',\n",
        "    'Andhra Pradesh': 'Andhra Pradesh',\n",
        "    'Assam': 'Assam',\n",
        "    'Bihar': 'Bihar',\n",
        "    'Chandigarh': 'Chandigarh',\n",
        "    'Chhattisgarh': 'Chhattisgarh',\n",
        "    'Goa': 'Goa',\n",
        "    'Gujarat': 'Gujarat',\n",
        "    'Haryana': 'Haryana',\n",
        "    'Himachal Pradesh': 'Himachal Pradesh',\n",
        "    'Jharkhand': 'Jharkhand',\n",
        "    'Karnataka': 'Karnataka',\n",
        "    'Kerala': 'Kerala',\n",
        "    'Lakshadweep': 'Lakshadweep',\n",
        "    'Madhya Pradesh': 'Madhya Pradesh',\n",
        "    'Maharashtra': 'Maharashtra',\n",
        "    'Manipur': 'Manipur',\n",
        "    'Meghalaya': 'Meghalaya',\n",
        "    'Mizoram': 'Mizoram',\n",
        "    'Nagaland': 'Nagaland',\n",
        "    'Nct Of Delhi': 'NCT of Delhi', # Example of possible mismatch\n",
        "    'Punjab': 'Punjab',\n",
        "    'Rajasthan': 'Rajasthan',\n",
        "    'Sikkim': 'Sikkim',\n",
        "    'Tamil Nadu': 'Tamil Nadu',\n",
        "    'Tripura': 'Tripura'\n",
        "}"
      ],
      "metadata": {
        "id": "AC76i9CQTbGE"
      },
      "execution_count": null,
      "outputs": []
    },
    {
      "cell_type": "code",
      "source": [
        "#  Apply mapping to the DataFrame's State column\n",
        "state_wise_total_amount['State_Mapped'] = state_wise_total_amount['State'].map(state_name_mapping).fillna(state_wise_total_amount['State'])"
      ],
      "metadata": {
        "id": "fg0FDnPeTfDS"
      },
      "execution_count": null,
      "outputs": []
    },
    {
      "cell_type": "code",
      "source": [
        "# Create the choropleth map\n",
        "fig = px.choropleth(\n",
        "    state_wise_total_amount,\n",
        "    geojson=geojson_url,\n",
        "    locations='State_Mapped', # Column in DataFrame to match with GeoJSON\n",
        "    featureidkey=\"properties.ST_NM\", # Key in GeoJSON properties that holds the state name\n",
        "    color='Total_Amount',\n",
        "    hover_name='State', # Original state name for hover info\n",
        "    color_continuous_scale=\"Viridis\",\n",
        "    title='Total Transaction Amount by State in India',\n",
        "    labels={'Total_Amount': 'Total Amount (₹)'}\n",
        ")"
      ],
      "metadata": {
        "id": "9QS9wn2pTke0"
      },
      "execution_count": null,
      "outputs": []
    },
    {
      "cell_type": "code",
      "source": [
        "# Customize map layout\n",
        "fig.update_geos(\n",
        "    fitbounds=\"locations\", # Zoom to fit India\n",
        "    visible=False, # Hide background map\n",
        "    projection_scale=1 # Adjust zoom level if needed\n",
        ")\n",
        "fig.update_layout(margin={\"r\":0,\"t\":50,\"l\":0,\"b\":0})\n",
        "fig.show()\n",
        "\n",
        "print(\"Geo Visualization complete.\")"
      ],
      "metadata": {
        "colab": {
          "base_uri": "https://localhost:8080/",
          "height": 559
        },
        "id": "Nj7o-6QCTyvb",
        "outputId": "972eddfe-57d6-4983-82ad-c0de3becc188"
      },
      "execution_count": null,
      "outputs": [
        {
          "output_type": "display_data",
          "data": {
            "text/html": [
              "<html>\n",
              "<head><meta charset=\"utf-8\" /></head>\n",
              "<body>\n",
              "    <div>            <script src=\"https://cdnjs.cloudflare.com/ajax/libs/mathjax/2.7.5/MathJax.js?config=TeX-AMS-MML_SVG\"></script><script type=\"text/javascript\">if (window.MathJax && window.MathJax.Hub && window.MathJax.Hub.Config) {window.MathJax.Hub.Config({SVG: {font: \"STIX-Web\"}});}</script>                <script type=\"text/javascript\">window.PlotlyConfig = {MathJaxConfig: 'local'};</script>\n",
              "        <script charset=\"utf-8\" src=\"https://cdn.plot.ly/plotly-2.35.2.min.js\"></script>                <div id=\"85658332-b262-4af4-998a-b4e2bf4a7f03\" class=\"plotly-graph-div\" style=\"height:525px; width:100%;\"></div>            <script type=\"text/javascript\">                                    window.PLOTLYENV=window.PLOTLYENV || {};                                    if (document.getElementById(\"85658332-b262-4af4-998a-b4e2bf4a7f03\")) {                    Plotly.newPlot(                        \"85658332-b262-4af4-998a-b4e2bf4a7f03\",                        [{\"coloraxis\":\"coloraxis\",\"featureidkey\":\"properties.ST_NM\",\"geo\":\"geo\",\"geojson\":\"https:\\u002f\\u002fraw.githubusercontent.com\\u002fSubhrajyotiSen\\u002fIndian_States_Geojson\\u002fmaster\\u002findia_state_geo.json\",\"hovertemplate\":\"\\u003cb\\u003e%{hovertext}\\u003c\\u002fb\\u003e\\u003cbr\\u003e\\u003cbr\\u003eState_Mapped=%{location}\\u003cbr\\u003eTotal Amount (₹)=%{z}\\u003cextra\\u003e\\u003c\\u002fextra\\u003e\",\"hovertext\":[\"Andaman &  Nicobar  Islands\",\"Andhra  Pradesh\",\"Arunachal  Pradesh\",\"Assam\",\"Bihar\",\"Chandigarh\",\"Chhattisgarh\",\"Dadra &  Nagar  Haveli &  Daman &  Diu\",\"Delhi\",\"Goa\",\"Gujarat\",\"Haryana\",\"Himachal  Pradesh\",\"Jammu &  Kashmir\",\"Jharkhand\",\"Karnataka\",\"Kerala\",\"Ladakh\",\"Lakshadweep\",\"Madhya  Pradesh\",\"Maharashtra\",\"Manipur\",\"Meghalaya\",\"Mizoram\",\"Nagaland\",\"Odisha\",\"Puducherry\",\"Punjab\",\"Rajasthan\",\"Sikkim\",\"Tamil  Nadu\",\"Telangana\",\"Tripura\",\"Uttar  Pradesh\",\"Uttarakhand\",\"West  Bengal\"],\"locations\":[\"Andaman &  Nicobar  Islands\",\"Andhra  Pradesh\",\"Arunachal  Pradesh\",\"Assam\",\"Bihar\",\"Chandigarh\",\"Chhattisgarh\",\"Dadra &  Nagar  Haveli &  Daman &  Diu\",\"Delhi\",\"Goa\",\"Gujarat\",\"Haryana\",\"Himachal  Pradesh\",\"Jammu &  Kashmir\",\"Jharkhand\",\"Karnataka\",\"Kerala\",\"Ladakh\",\"Lakshadweep\",\"Madhya  Pradesh\",\"Maharashtra\",\"Manipur\",\"Meghalaya\",\"Mizoram\",\"Nagaland\",\"Orissa\",\"Pondicherry\",\"Punjab\",\"Rajasthan\",\"Sikkim\",\"Tamil  Nadu\",\"Telangana\",\"Tripura\",\"Uttar  Pradesh\",\"Uttarakhand\",\"West  Bengal\"],\"name\":\"\",\"z\":[70667453146.59808,34669080454846.836,274434950651.68097,3460792155997.8906,17901349344779.72,292906588372.68616,4890472317487.817,201719857192.11563,11637520248963.953,511021161407.3032,10192905823125.37,9645036562815.904,687537358746.4003,1184683177572.731,5906646115660.92,40678721773666.375,3076269164129.1377,88994622100.10214,1609320784.777147,19125279433026.816,40374195687971.67,186265635029.7436,162543901207.48492,46102103410.33138,130358591755.69928,12263982051532.617,237317074404.2651,2983077809927.2925,26343235566259.24,118945401940.84947,11936219022648.533,41655955630076.32,200583408419.46307,26885212184899.863,1916488572014.317,15584164309413.682],\"type\":\"choropleth\"}],                        {\"template\":{\"data\":{\"histogram2dcontour\":[{\"type\":\"histogram2dcontour\",\"colorbar\":{\"outlinewidth\":0,\"ticks\":\"\"},\"colorscale\":[[0.0,\"#0d0887\"],[0.1111111111111111,\"#46039f\"],[0.2222222222222222,\"#7201a8\"],[0.3333333333333333,\"#9c179e\"],[0.4444444444444444,\"#bd3786\"],[0.5555555555555556,\"#d8576b\"],[0.6666666666666666,\"#ed7953\"],[0.7777777777777778,\"#fb9f3a\"],[0.8888888888888888,\"#fdca26\"],[1.0,\"#f0f921\"]]}],\"choropleth\":[{\"type\":\"choropleth\",\"colorbar\":{\"outlinewidth\":0,\"ticks\":\"\"}}],\"histogram2d\":[{\"type\":\"histogram2d\",\"colorbar\":{\"outlinewidth\":0,\"ticks\":\"\"},\"colorscale\":[[0.0,\"#0d0887\"],[0.1111111111111111,\"#46039f\"],[0.2222222222222222,\"#7201a8\"],[0.3333333333333333,\"#9c179e\"],[0.4444444444444444,\"#bd3786\"],[0.5555555555555556,\"#d8576b\"],[0.6666666666666666,\"#ed7953\"],[0.7777777777777778,\"#fb9f3a\"],[0.8888888888888888,\"#fdca26\"],[1.0,\"#f0f921\"]]}],\"heatmap\":[{\"type\":\"heatmap\",\"colorbar\":{\"outlinewidth\":0,\"ticks\":\"\"},\"colorscale\":[[0.0,\"#0d0887\"],[0.1111111111111111,\"#46039f\"],[0.2222222222222222,\"#7201a8\"],[0.3333333333333333,\"#9c179e\"],[0.4444444444444444,\"#bd3786\"],[0.5555555555555556,\"#d8576b\"],[0.6666666666666666,\"#ed7953\"],[0.7777777777777778,\"#fb9f3a\"],[0.8888888888888888,\"#fdca26\"],[1.0,\"#f0f921\"]]}],\"heatmapgl\":[{\"type\":\"heatmapgl\",\"colorbar\":{\"outlinewidth\":0,\"ticks\":\"\"},\"colorscale\":[[0.0,\"#0d0887\"],[0.1111111111111111,\"#46039f\"],[0.2222222222222222,\"#7201a8\"],[0.3333333333333333,\"#9c179e\"],[0.4444444444444444,\"#bd3786\"],[0.5555555555555556,\"#d8576b\"],[0.6666666666666666,\"#ed7953\"],[0.7777777777777778,\"#fb9f3a\"],[0.8888888888888888,\"#fdca26\"],[1.0,\"#f0f921\"]]}],\"contourcarpet\":[{\"type\":\"contourcarpet\",\"colorbar\":{\"outlinewidth\":0,\"ticks\":\"\"}}],\"contour\":[{\"type\":\"contour\",\"colorbar\":{\"outlinewidth\":0,\"ticks\":\"\"},\"colorscale\":[[0.0,\"#0d0887\"],[0.1111111111111111,\"#46039f\"],[0.2222222222222222,\"#7201a8\"],[0.3333333333333333,\"#9c179e\"],[0.4444444444444444,\"#bd3786\"],[0.5555555555555556,\"#d8576b\"],[0.6666666666666666,\"#ed7953\"],[0.7777777777777778,\"#fb9f3a\"],[0.8888888888888888,\"#fdca26\"],[1.0,\"#f0f921\"]]}],\"surface\":[{\"type\":\"surface\",\"colorbar\":{\"outlinewidth\":0,\"ticks\":\"\"},\"colorscale\":[[0.0,\"#0d0887\"],[0.1111111111111111,\"#46039f\"],[0.2222222222222222,\"#7201a8\"],[0.3333333333333333,\"#9c179e\"],[0.4444444444444444,\"#bd3786\"],[0.5555555555555556,\"#d8576b\"],[0.6666666666666666,\"#ed7953\"],[0.7777777777777778,\"#fb9f3a\"],[0.8888888888888888,\"#fdca26\"],[1.0,\"#f0f921\"]]}],\"mesh3d\":[{\"type\":\"mesh3d\",\"colorbar\":{\"outlinewidth\":0,\"ticks\":\"\"}}],\"scatter\":[{\"fillpattern\":{\"fillmode\":\"overlay\",\"size\":10,\"solidity\":0.2},\"type\":\"scatter\"}],\"parcoords\":[{\"type\":\"parcoords\",\"line\":{\"colorbar\":{\"outlinewidth\":0,\"ticks\":\"\"}}}],\"scatterpolargl\":[{\"type\":\"scatterpolargl\",\"marker\":{\"colorbar\":{\"outlinewidth\":0,\"ticks\":\"\"}}}],\"bar\":[{\"error_x\":{\"color\":\"#2a3f5f\"},\"error_y\":{\"color\":\"#2a3f5f\"},\"marker\":{\"line\":{\"color\":\"#E5ECF6\",\"width\":0.5},\"pattern\":{\"fillmode\":\"overlay\",\"size\":10,\"solidity\":0.2}},\"type\":\"bar\"}],\"scattergeo\":[{\"type\":\"scattergeo\",\"marker\":{\"colorbar\":{\"outlinewidth\":0,\"ticks\":\"\"}}}],\"scatterpolar\":[{\"type\":\"scatterpolar\",\"marker\":{\"colorbar\":{\"outlinewidth\":0,\"ticks\":\"\"}}}],\"histogram\":[{\"marker\":{\"pattern\":{\"fillmode\":\"overlay\",\"size\":10,\"solidity\":0.2}},\"type\":\"histogram\"}],\"scattergl\":[{\"type\":\"scattergl\",\"marker\":{\"colorbar\":{\"outlinewidth\":0,\"ticks\":\"\"}}}],\"scatter3d\":[{\"type\":\"scatter3d\",\"line\":{\"colorbar\":{\"outlinewidth\":0,\"ticks\":\"\"}},\"marker\":{\"colorbar\":{\"outlinewidth\":0,\"ticks\":\"\"}}}],\"scattermapbox\":[{\"type\":\"scattermapbox\",\"marker\":{\"colorbar\":{\"outlinewidth\":0,\"ticks\":\"\"}}}],\"scatterternary\":[{\"type\":\"scatterternary\",\"marker\":{\"colorbar\":{\"outlinewidth\":0,\"ticks\":\"\"}}}],\"scattercarpet\":[{\"type\":\"scattercarpet\",\"marker\":{\"colorbar\":{\"outlinewidth\":0,\"ticks\":\"\"}}}],\"carpet\":[{\"aaxis\":{\"endlinecolor\":\"#2a3f5f\",\"gridcolor\":\"white\",\"linecolor\":\"white\",\"minorgridcolor\":\"white\",\"startlinecolor\":\"#2a3f5f\"},\"baxis\":{\"endlinecolor\":\"#2a3f5f\",\"gridcolor\":\"white\",\"linecolor\":\"white\",\"minorgridcolor\":\"white\",\"startlinecolor\":\"#2a3f5f\"},\"type\":\"carpet\"}],\"table\":[{\"cells\":{\"fill\":{\"color\":\"#EBF0F8\"},\"line\":{\"color\":\"white\"}},\"header\":{\"fill\":{\"color\":\"#C8D4E3\"},\"line\":{\"color\":\"white\"}},\"type\":\"table\"}],\"barpolar\":[{\"marker\":{\"line\":{\"color\":\"#E5ECF6\",\"width\":0.5},\"pattern\":{\"fillmode\":\"overlay\",\"size\":10,\"solidity\":0.2}},\"type\":\"barpolar\"}],\"pie\":[{\"automargin\":true,\"type\":\"pie\"}]},\"layout\":{\"autotypenumbers\":\"strict\",\"colorway\":[\"#636efa\",\"#EF553B\",\"#00cc96\",\"#ab63fa\",\"#FFA15A\",\"#19d3f3\",\"#FF6692\",\"#B6E880\",\"#FF97FF\",\"#FECB52\"],\"font\":{\"color\":\"#2a3f5f\"},\"hovermode\":\"closest\",\"hoverlabel\":{\"align\":\"left\"},\"paper_bgcolor\":\"white\",\"plot_bgcolor\":\"#E5ECF6\",\"polar\":{\"bgcolor\":\"#E5ECF6\",\"angularaxis\":{\"gridcolor\":\"white\",\"linecolor\":\"white\",\"ticks\":\"\"},\"radialaxis\":{\"gridcolor\":\"white\",\"linecolor\":\"white\",\"ticks\":\"\"}},\"ternary\":{\"bgcolor\":\"#E5ECF6\",\"aaxis\":{\"gridcolor\":\"white\",\"linecolor\":\"white\",\"ticks\":\"\"},\"baxis\":{\"gridcolor\":\"white\",\"linecolor\":\"white\",\"ticks\":\"\"},\"caxis\":{\"gridcolor\":\"white\",\"linecolor\":\"white\",\"ticks\":\"\"}},\"coloraxis\":{\"colorbar\":{\"outlinewidth\":0,\"ticks\":\"\"}},\"colorscale\":{\"sequential\":[[0.0,\"#0d0887\"],[0.1111111111111111,\"#46039f\"],[0.2222222222222222,\"#7201a8\"],[0.3333333333333333,\"#9c179e\"],[0.4444444444444444,\"#bd3786\"],[0.5555555555555556,\"#d8576b\"],[0.6666666666666666,\"#ed7953\"],[0.7777777777777778,\"#fb9f3a\"],[0.8888888888888888,\"#fdca26\"],[1.0,\"#f0f921\"]],\"sequentialminus\":[[0.0,\"#0d0887\"],[0.1111111111111111,\"#46039f\"],[0.2222222222222222,\"#7201a8\"],[0.3333333333333333,\"#9c179e\"],[0.4444444444444444,\"#bd3786\"],[0.5555555555555556,\"#d8576b\"],[0.6666666666666666,\"#ed7953\"],[0.7777777777777778,\"#fb9f3a\"],[0.8888888888888888,\"#fdca26\"],[1.0,\"#f0f921\"]],\"diverging\":[[0,\"#8e0152\"],[0.1,\"#c51b7d\"],[0.2,\"#de77ae\"],[0.3,\"#f1b6da\"],[0.4,\"#fde0ef\"],[0.5,\"#f7f7f7\"],[0.6,\"#e6f5d0\"],[0.7,\"#b8e186\"],[0.8,\"#7fbc41\"],[0.9,\"#4d9221\"],[1,\"#276419\"]]},\"xaxis\":{\"gridcolor\":\"white\",\"linecolor\":\"white\",\"ticks\":\"\",\"title\":{\"standoff\":15},\"zerolinecolor\":\"white\",\"automargin\":true,\"zerolinewidth\":2},\"yaxis\":{\"gridcolor\":\"white\",\"linecolor\":\"white\",\"ticks\":\"\",\"title\":{\"standoff\":15},\"zerolinecolor\":\"white\",\"automargin\":true,\"zerolinewidth\":2},\"scene\":{\"xaxis\":{\"backgroundcolor\":\"#E5ECF6\",\"gridcolor\":\"white\",\"linecolor\":\"white\",\"showbackground\":true,\"ticks\":\"\",\"zerolinecolor\":\"white\",\"gridwidth\":2},\"yaxis\":{\"backgroundcolor\":\"#E5ECF6\",\"gridcolor\":\"white\",\"linecolor\":\"white\",\"showbackground\":true,\"ticks\":\"\",\"zerolinecolor\":\"white\",\"gridwidth\":2},\"zaxis\":{\"backgroundcolor\":\"#E5ECF6\",\"gridcolor\":\"white\",\"linecolor\":\"white\",\"showbackground\":true,\"ticks\":\"\",\"zerolinecolor\":\"white\",\"gridwidth\":2}},\"shapedefaults\":{\"line\":{\"color\":\"#2a3f5f\"}},\"annotationdefaults\":{\"arrowcolor\":\"#2a3f5f\",\"arrowhead\":0,\"arrowwidth\":1},\"geo\":{\"bgcolor\":\"white\",\"landcolor\":\"#E5ECF6\",\"subunitcolor\":\"white\",\"showland\":true,\"showlakes\":true,\"lakecolor\":\"white\"},\"title\":{\"x\":0.05},\"mapbox\":{\"style\":\"light\"}}},\"geo\":{\"domain\":{\"x\":[0.0,1.0],\"y\":[0.0,1.0]},\"center\":{},\"projection\":{\"scale\":1},\"fitbounds\":\"locations\",\"visible\":false},\"coloraxis\":{\"colorbar\":{\"title\":{\"text\":\"Total Amount (₹)\"}},\"colorscale\":[[0.0,\"#440154\"],[0.1111111111111111,\"#482878\"],[0.2222222222222222,\"#3e4989\"],[0.3333333333333333,\"#31688e\"],[0.4444444444444444,\"#26828e\"],[0.5555555555555556,\"#1f9e89\"],[0.6666666666666666,\"#35b779\"],[0.7777777777777778,\"#6ece58\"],[0.8888888888888888,\"#b5de2b\"],[1.0,\"#fde725\"]]},\"legend\":{\"tracegroupgap\":0},\"title\":{\"text\":\"Total Transaction Amount by State in India\"},\"margin\":{\"r\":0,\"t\":50,\"l\":0,\"b\":0}},                        {\"responsive\": true}                    ).then(function(){\n",
              "                            \n",
              "var gd = document.getElementById('85658332-b262-4af4-998a-b4e2bf4a7f03');\n",
              "var x = new MutationObserver(function (mutations, observer) {{\n",
              "        var display = window.getComputedStyle(gd).display;\n",
              "        if (!display || display === 'none') {{\n",
              "            console.log([gd, 'removed!']);\n",
              "            Plotly.purge(gd);\n",
              "            observer.disconnect();\n",
              "        }}\n",
              "}});\n",
              "\n",
              "// Listen for the removal of the full notebook cells\n",
              "var notebookContainer = gd.closest('#notebook-container');\n",
              "if (notebookContainer) {{\n",
              "    x.observe(notebookContainer, {childList: true});\n",
              "}}\n",
              "\n",
              "// Listen for the clearing of the current output cell\n",
              "var outputEl = gd.closest('.output');\n",
              "if (outputEl) {{\n",
              "    x.observe(outputEl, {childList: true});\n",
              "}}\n",
              "\n",
              "                        })                };                            </script>        </div>\n",
              "</body>\n",
              "</html>"
            ]
          },
          "metadata": {}
        },
        {
          "output_type": "stream",
          "name": "stdout",
          "text": [
            "Geo Visualization complete.\n"
          ]
        }
      ]
    },
    {
      "cell_type": "markdown",
      "source": [
        "#Database Insertion and Retrieval (Using SQLite)\n"
      ],
      "metadata": {
        "id": "Oc6uFZ-lUAQ7"
      }
    },
    {
      "cell_type": "code",
      "source": [
        "# Create a SQLite database connection\n",
        "# This will create a file named 'phonepe_pulse.db' in your Colab/Jupyter environment\n",
        "db_name = 'phonepe_pulse.db'\n",
        "conn = sqlite3.connect(db_name)\n",
        "cursor = conn.cursor()\n",
        "{db_name}"
      ],
      "metadata": {
        "colab": {
          "base_uri": "https://localhost:8080/"
        },
        "id": "B8G-3f80T636",
        "outputId": "8975003f-0940-42a7-ab67-4a7354cc548a"
      },
      "execution_count": null,
      "outputs": [
        {
          "output_type": "execute_result",
          "data": {
            "text/plain": [
              "{'phonepe_pulse.db'}"
            ]
          },
          "metadata": {},
          "execution_count": 80
        }
      ]
    },
    {
      "cell_type": "code",
      "source": [
        "\n",
        "# Save cleaned DataFrames to SQLite tables\n",
        "# Using if_exists='replace' will overwrite the table if it already exists\n",
        "try:\n",
        "    df_agg_trans.to_sql('aggregated_transactions', conn, if_exists='replace', index=False)\n",
        "    print(\"df_agg_trans saved to 'aggregated_transactions' table.\")\n",
        "\n",
        "    # Only save if DataFrame is not empty\n",
        "    if not df_agg_user.empty:\n",
        "        df_agg_user.to_sql('aggregated_users', conn, if_exists='replace', index=False)\n",
        "        print(\"df_agg_user saved to 'aggregated_users' table.\")\n",
        "    else:\n",
        "        print(\"df_agg_user is empty. Skipping saving to database.\")\n",
        "\n",
        "    if not df_map_trans.empty:\n",
        "        df_map_trans.to_sql('map_transactions', conn, if_exists='replace', index=False)\n",
        "        print(\"df_map_trans saved to 'map_transactions' table.\")\n",
        "    else:\n",
        "         print(\"df_map_trans is empty. Skipping saving to database.\")\n",
        "\n",
        "    if not df_top_trans.empty:\n",
        "        df_top_trans.to_sql('top_transactions', conn, if_exists='replace', index=False)\n",
        "        print(\"df_top_trans saved to 'top_transactions' table.\")\n",
        "    else:\n",
        "        print(\"df_top_trans is empty. Skipping saving to database.\")\n",
        "\n",
        "except Exception as e:\n",
        "    print(f\"Error saving data to SQLite: {e}\")\n"
      ],
      "metadata": {
        "colab": {
          "base_uri": "https://localhost:8080/"
        },
        "id": "bB2ngeIhUOsB",
        "outputId": "657530f8-b51a-4567-d671-cf5a7e856cba"
      },
      "execution_count": null,
      "outputs": [
        {
          "output_type": "stream",
          "name": "stdout",
          "text": [
            "df_agg_trans saved to 'aggregated_transactions' table.\n",
            "df_agg_user saved to 'aggregated_users' table.\n",
            "df_map_trans is empty. Skipping saving to database.\n",
            "df_top_trans saved to 'top_transactions' table.\n"
          ]
        }
      ]
    },
    {
      "cell_type": "code",
      "source": [
        "# Verify data retrieval from SQLite\n",
        "print(\"\\nVerifying data retrieval from SQLite...\")\n",
        "\n",
        "try:\n",
        "    fetched_agg_trans = pd.read_sql('SELECT * FROM aggregated_transactions LIMIT 5', conn)\n",
        "    print(\"\\nFetched data from 'aggregated_transactions':\")\n",
        "    print(fetched_agg_trans)\n",
        "\n",
        "    if not df_agg_user.empty:\n",
        "        fetched_agg_user = pd.read_sql('SELECT * FROM aggregated_users LIMIT 5', conn)\n",
        "        print(\"\\nFetched data from 'aggregated_users':\")\n",
        "        print(fetched_agg_user)\n",
        "    else:\n",
        "        print(\"\\nSkipping fetching from 'aggregated_users': DataFrame was empty.\")\n",
        "\n",
        "    if not df_map_trans.empty:\n",
        "        fetched_map_trans = pd.read_sql('SELECT * FROM map_transactions LIMIT 5', conn)\n",
        "        print(\"\\nFetched data from 'map_transactions':\")\n",
        "        print(fetched_map_trans)\n",
        "    else:\n",
        "         print(\"\\nSkipping fetching from 'map_transactions': DataFrame was empty.\")\n",
        "\n",
        "    if not df_top_trans.empty:\n",
        "        fetched_top_trans = pd.read_sql('SELECT * FROM top_transactions LIMIT 5', conn)\n",
        "        print(\"\\nFetched data from 'top_transactions':\")\n",
        "        print(fetched_top_trans)\n",
        "    else:\n",
        "        print(\"\\nSkipping fetching from 'top_transactions': DataFrame was empty.\")\n",
        "\n",
        "except Exception as e:\n",
        "    print(f\"Error fetching data from SQLite: {e}\")"
      ],
      "metadata": {
        "colab": {
          "base_uri": "https://localhost:8080/"
        },
        "id": "quwVtzAGUgew",
        "outputId": "56b7cf1c-2b57-4f6d-d2dc-a67146a9fff9"
      },
      "execution_count": null,
      "outputs": [
        {
          "output_type": "stream",
          "name": "stdout",
          "text": [
            "\n",
            "Verifying data retrieval from SQLite...\n",
            "\n",
            "Fetched data from 'aggregated_transactions':\n",
            "            State  Year  Quarter          Transaction_Type  Transaction_Count  \\\n",
            "0  Uttar  Pradesh  2022        4         Merchant Payments          439247166   \n",
            "1  Uttar  Pradesh  2022        4     Peer-To-Peer Payments          317613698   \n",
            "2  Uttar  Pradesh  2022        4  Recharge & Bill Payments           78025017   \n",
            "3  Uttar  Pradesh  2022        4        Financial Services             418329   \n",
            "4  Uttar  Pradesh  2022        4                    Others            1064861   \n",
            "\n",
            "   Transaction_Amount  \n",
            "0        2.967820e+11  \n",
            "1        1.030346e+12  \n",
            "2        4.815907e+10  \n",
            "3        4.302129e+08  \n",
            "4        6.619850e+08  \n",
            "\n",
            "Fetched data from 'aggregated_users':\n",
            "            State  Year  Quarter  Registered_Users  App_Opens    Brand  Count  \\\n",
            "0  Uttar  Pradesh  2022        4                 0          0  Unknown      0   \n",
            "1  Uttar  Pradesh  2022        2                 0          0  Unknown      0   \n",
            "2  Uttar  Pradesh  2022        3                 0          0  Unknown      0   \n",
            "3  Uttar  Pradesh  2022        1                 0          0  Unknown      0   \n",
            "4  Uttar  Pradesh  2020        4                 0          0  Unknown      0   \n",
            "\n",
            "   Percentage  \n",
            "0         0.0  \n",
            "1         0.0  \n",
            "2         0.0  \n",
            "3         0.0  \n",
            "4         0.0  \n",
            "\n",
            "Skipping fetching from 'map_transactions': DataFrame was empty.\n",
            "\n",
            "Fetched data from 'top_transactions':\n",
            "            State  Year  Quarter Entity_Type          Entity_Name  \\\n",
            "0  Uttar  Pradesh  2022        4   Districts              Lucknow   \n",
            "1  Uttar  Pradesh  2022        4   Districts  Gautam Buddha Nagar   \n",
            "2  Uttar  Pradesh  2022        4   Districts            Ghaziabad   \n",
            "3  Uttar  Pradesh  2022        4   Districts             Varanasi   \n",
            "4  Uttar  Pradesh  2022        4   Districts         Kanpur Nagar   \n",
            "\n",
            "   Transaction_Count  Transaction_Amount  \n",
            "0          142292419        2.141390e+11  \n",
            "1           90864471        1.041625e+11  \n",
            "2           48195051        7.333355e+10  \n",
            "3           38410576        6.167928e+10  \n",
            "4           34663083        5.742358e+10  \n"
          ]
        }
      ]
    },
    {
      "cell_type": "code",
      "source": [
        "# Close the database connection\n",
        "conn.close()\n",
        "print(\"\\nSQLite database connection closed.\")\n",
        "print(\"You have successfully extracted, cleaned, visualized, and stored the PhonePe Pulse data.\")\n"
      ],
      "metadata": {
        "id": "j_PAUsh5UtBI"
      },
      "execution_count": null,
      "outputs": []
    }
  ]
}